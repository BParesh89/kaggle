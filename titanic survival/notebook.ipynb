{
  "cells": [
    {
      "metadata": {
        "_uuid": "8f2839f25d086af736a60e9eeb907d3b93b6e0e5",
        "_cell_guid": "b1076dfc-b9ad-4769-8c92-a6c4dae69d19",
        "trusted": false,
        "collapsed": true
      },
      "cell_type": "code",
      "source": "# This Python 3 environment comes with many helpful analytics libraries installed\n# It is defined by the kaggle/python docker image: https://github.com/kaggle/docker-python\n# For example, here's several helpful packages to load in \n\nimport numpy as np # linear algebra\nimport pandas as pd # data processing, CSV file I/O (e.g. pd.read_csv)\nimport matplotlib.pyplot as plt\nimport seaborn as sns\n%matplotlib inline\n\n# Input data files are available in the \"../input/\" directory.\n# For example, running this (by clicking run or pressing Shift+Enter) will list the files in the input directory\n\nimport os\n#print(os.listdir(\"../input/train.csv\"))\n#print(os.listdir(\"../input/test.csv\"))\n\n# Import all the Model libraries\nfrom sklearn.linear_model import LogisticRegression\nfrom sklearn.svm import SVC, LinearSVC\nfrom sklearn.ensemble import RandomForestClassifier\nfrom sklearn.neighbors import KNeighborsClassifier\nfrom sklearn.naive_bayes import GaussianNB\n\n## Some Functions used for the data cleaning and mapping\ndef family_mapping(n):\n    if n<1:\n        return 0\n    else:\n        return 1\n\n# import DataSet\ndataset_train=pd.read_csv(\"../input/train.csv\")\ndataset_test=pd.read_csv(\"../input/test.csv\")\ndataset_test_y=pd.read_csv(\"../input/gender_submission.csv\")\ny_test=dataset_test_y['Survived']",
      "execution_count": null,
      "outputs": []
    },
    {
      "metadata": {
        "_uuid": "d629ff2d2480ee46fbb7e2d37f6b5fab8052498a",
        "_cell_guid": "79c7e3d0-c299-4dcb-8224-4455121ee9b0",
        "trusted": false,
        "collapsed": true
      },
      "cell_type": "code",
      "source": "## Look at the samples of the dataset\ndataset_train.sample(3)",
      "execution_count": null,
      "outputs": []
    },
    {
      "metadata": {
        "_uuid": "1ad60d60ab69409406155fec4ebcbaa67be68ac8",
        "_cell_guid": "968cb07b-87b8-427e-88e1-4e316b5fca67",
        "trusted": false,
        "collapsed": true
      },
      "cell_type": "code",
      "source": "## Lets now Visualize the Embarked vs Survived data\nsns.barplot(x='Embarked', y='Survived', hue='Sex', data=dataset_train)",
      "execution_count": null,
      "outputs": []
    },
    {
      "metadata": {
        "_uuid": "5f4408fad7bb30f38dc25a957d87d4c5ca8629a7",
        "_cell_guid": "a6374f03-dee9-400b-a0da-40b77f042fc7",
        "trusted": false,
        "collapsed": true
      },
      "cell_type": "code",
      "source": "# The Above barplot shows that male or female who embarked in C had a better survival rate\n# Also male survived least in Q\n## Lets now Visualize the Pclass vs Survived data\nsns.barplot(x='Pclass', y='Survived', hue='Sex', data=dataset_train)",
      "execution_count": null,
      "outputs": []
    },
    {
      "metadata": {
        "_uuid": "b69d6cc46636db15cc8a410f13a9ef7cdef113b1",
        "_cell_guid": "17f35b7d-2de7-4929-a26e-4bb4aabf1f15",
        "trusted": false,
        "collapsed": true
      },
      "cell_type": "code",
      "source": "# Now lets see the Age plot of the survived passengers\nsns.barplot(x='Age', y='Survived', hue=\"Sex\", data=dataset_train)",
      "execution_count": null,
      "outputs": []
    },
    {
      "metadata": {
        "_uuid": "524265331a87689fb2207ee52c07fc8a326cc8ef",
        "_cell_guid": "85340c68-54c0-4297-ab25-e522a4e65d50",
        "collapsed": true,
        "trusted": false
      },
      "cell_type": "code",
      "source": "",
      "execution_count": null,
      "outputs": []
    },
    {
      "metadata": {
        "_uuid": "38e1d4e5b22c683a4f49479173e69e04f5fb6384",
        "_cell_guid": "a18c90d4-2b7f-404a-84e0-e0ea8021f2da",
        "collapsed": true,
        "trusted": false
      },
      "cell_type": "code",
      "source": "# To preserve the original train and test dataset, I created a tmp dataset for both train and test, will remove it later\ndataset_tmp=dataset_train",
      "execution_count": null,
      "outputs": []
    },
    {
      "metadata": {
        "_uuid": "b6a5d327a21c5ae00d6037d782046dea7be4a7bd",
        "_cell_guid": "76cc9a98-e7b7-49ea-86e1-95938ec759a1",
        "collapsed": true,
        "trusted": false
      },
      "cell_type": "code",
      "source": "## The individual use of Parch and Siblings feature seems unnecessary, both seems to give the same indication that more siblings means better survival chances\n# Lets create a Family feature with combining Parch and SibSp\ndataset_tmp['Family']=dataset_tmp['Parch']+dataset_tmp['SibSp']",
      "execution_count": null,
      "outputs": []
    },
    {
      "metadata": {
        "_uuid": "8afb8b30c5eaec6827e9dc43729ddb8aa12bca12",
        "_cell_guid": "55868fcb-ba07-464b-ab41-d4450978ed5f",
        "collapsed": true,
        "trusted": false
      },
      "cell_type": "code",
      "source": "# Now the Family feature is more like eiter travelling alone or with siblings, therefore, lets map the feature with 1 for traveling with Family and 0 for alone\ndataset_tmp['Family']=list(map(family_mapping, dataset_tmp['Family'] ))",
      "execution_count": null,
      "outputs": []
    },
    {
      "metadata": {
        "_uuid": "700727de245f97ee123e50f740405ff92d3eaf87",
        "_cell_guid": "4aa63a8f-a1f1-43da-b7fe-e893aa9fe38a",
        "collapsed": true,
        "trusted": false
      },
      "cell_type": "code",
      "source": "# Obviously Age is not a great way to visualize the data as its not easy to interpret this data\n# However, Age is very important feature, lower and higher age must have better chances of survival\n# Therefore, Age is a feature which can give good insight on prediction\n## There are few features which have no value in this Model prediction, therefore, lets drop them\n# We will drop Ticket, Name of the passanger, and Embarked from this dataset\n## The Cabin has mostly nan values and whichever has values dont have more informtaion than the Pclass or Fare. \n# If the dataset is sorted via Survived, it is seen that most of the passanges survived had higher fares and were females, therefore, its a good idea to keep this feature\ndataset_tmp = dataset_train.drop(['Parch', 'SibSp','Survived','PassengerId','Ticket', 'Name', 'Embarked', 'Cabin'],1)\n",
      "execution_count": null,
      "outputs": []
    },
    {
      "metadata": {
        "_uuid": "a11937a727e1f9d099bd78c777eb654a9d24b9d2",
        "_cell_guid": "f32f0d2c-6bda-490f-9d94-959ee1a04749",
        "collapsed": true,
        "trusted": false
      },
      "cell_type": "code",
      "source": "# Also, lets map Male and Female of the Sex to 0 and 1\ndataset_tmp['Sex'] = dataset_tmp['Sex'].map({'male':1,'female':0})",
      "execution_count": null,
      "outputs": []
    },
    {
      "metadata": {
        "_uuid": "af6f0a9ad15f93b4abf7600c44d8270a618246ea",
        "_cell_guid": "1c5ea92d-b048-4f07-b986-fa570d527e60",
        "collapsed": true,
        "trusted": false
      },
      "cell_type": "code",
      "source": "## There are few nan in Age, therefore, lets fill nan with average age, the reason is that people who survived definitly had age known, however, some of those who didnt still dont have age information\n# Therefore, probability is higher that they were more not child or older people, thats why lets replace nan with average Age\ndataset_tmp.fillna(dataset_tmp['Age'].mean(), inplace=True)\n\n## Now the training set data is ready",
      "execution_count": null,
      "outputs": []
    },
    {
      "metadata": {
        "_uuid": "7bb2b9bbab2bce4972f9e2004679f56ec3e4e29d",
        "_cell_guid": "6e8a4a25-b1d7-4011-ac6d-52deec048e50",
        "collapsed": true,
        "trusted": false
      },
      "cell_type": "code",
      "source": "## Now lets do the same thing for test set\ndataset_test_tmp=dataset_test\ndataset_test.fillna(dataset_test_tmp['Age'].mean(), inplace=True)\ndataset_test_tmp['Family']=dataset_test_tmp['Parch']+dataset_test_tmp['SibSp']\n\ndataset_test_tmp = dataset_test_tmp.drop(['Parch', 'SibSp','PassengerId','Ticket', 'Name', 'Embarked', 'Cabin'],1)\ndataset_test_tmp['Sex'] = dataset_test_tmp['Sex'].map({'male':1,'female':0})\ndataset_test_tmp['Family']=list(map(family_mapping, dataset_test_tmp['Family'] ))",
      "execution_count": null,
      "outputs": []
    },
    {
      "metadata": {
        "_uuid": "48da7fda49d02e59b49651748a753546be1e7bb0",
        "_cell_guid": "108da462-94b7-41b3-9904-1848baf27485",
        "collapsed": true,
        "trusted": false
      },
      "cell_type": "code",
      "source": "## Now lets create our training variable vectors set x and y\nx_train=dataset_tmp\ny_train = dataset_train['Survived']",
      "execution_count": null,
      "outputs": []
    },
    {
      "metadata": {
        "_uuid": "1922da9f460d0a6d7d051f25a22db743f483ce3a",
        "_cell_guid": "4243fed3-20e9-4484-8740-0d40787f316d",
        "collapsed": true,
        "trusted": false
      },
      "cell_type": "code",
      "source": "# Same thing for test set, except y_test is created based on gender_submissions.csv\nx_test=dataset_test_tmp",
      "execution_count": null,
      "outputs": []
    },
    {
      "metadata": {
        "_uuid": "000bf051dc3e2b23a11362d700b6fb11caa8f688",
        "_cell_guid": "55f356a7-8ead-410b-bac7-7b71ceb3ac4e",
        "trusted": false,
        "collapsed": true
      },
      "cell_type": "code",
      "source": "## Logistic Regression\nlogreg=LogisticRegression()\nlogreg.fit(x_train,y_train)",
      "execution_count": null,
      "outputs": []
    },
    {
      "metadata": {
        "_uuid": "d97b1172c0d1511384de22f4d99cac49d57ab172",
        "_cell_guid": "6d914d68-9b63-4534-b850-7c53b5a4caa7",
        "trusted": false,
        "collapsed": true
      },
      "cell_type": "code",
      "source": "logreg.score(x_train,y_train)\ny_pred=logreg.predict(x_test)",
      "execution_count": null,
      "outputs": []
    },
    {
      "metadata": {
        "_uuid": "2a1b09d5f5c772a9a4eaaa2bec576f2f6440ee23",
        "_cell_guid": "adb057c8-03ac-46ec-ad03-b043902132e1",
        "trusted": false,
        "collapsed": true
      },
      "cell_type": "code",
      "source": "## Support Vector Machines\nsvc=SVC()\nsvc.fit(x_train, y_train)\nsvc.score(x_train, y_train)",
      "execution_count": null,
      "outputs": []
    },
    {
      "metadata": {
        "_uuid": "ad4292f9c47a428c4d27cabf2ba217bc43434bd6",
        "_cell_guid": "c82d24e7-89b6-4b56-8814-09df1aa1cc1f",
        "trusted": false,
        "collapsed": true
      },
      "cell_type": "code",
      "source": "## K Nearest Neighbors\nknn=KNeighborsClassifier(n_neighbors=3)\nknn.fit(x_train, y_train)\nknn.score(x_train, y_train)",
      "execution_count": null,
      "outputs": []
    },
    {
      "metadata": {
        "_uuid": "0d2a3d725d34d9460e1f5e4f5f871b080425db46",
        "_cell_guid": "69a835b4-c1ae-48c5-ae53-ecfb429c9d6f",
        "trusted": false,
        "collapsed": true
      },
      "cell_type": "code",
      "source": "## RandomForestClasifier\nrf_Classifier=RandomForestClassifier(n_estimators=300, random_state=0)\nrf_Classifier.fit(x_train,y_train)\nrf_Classifier.score(x_train,y_train)",
      "execution_count": null,
      "outputs": []
    },
    {
      "metadata": {
        "_uuid": "33b354a1fb5d492d44f5b00eff6b76dd3a83cce6",
        "_cell_guid": "ba9657f2-d3a3-4412-91bc-0eae62db2468",
        "trusted": false,
        "collapsed": true
      },
      "cell_type": "code",
      "source": "nb=GaussianNB()\nnb.fit(x_train, y_train)\nnb.score(x_train, y_train)",
      "execution_count": null,
      "outputs": []
    },
    {
      "metadata": {
        "_uuid": "53f5f8a7f85e65c341c0bd5fe9baa6b035924f00",
        "_cell_guid": "cbdfb5e5-d21b-40a8-9b8c-c81881711c51",
        "trusted": false,
        "collapsed": true
      },
      "cell_type": "code",
      "source": "my_submission=pd.DataFrame({'PassengerId': dataset_test_y.PassengerId, 'Survived': y_pred})\nmy_submission.to_csv('submission.csv', index=False)",
      "execution_count": null,
      "outputs": []
    },
    {
      "metadata": {
        "_uuid": "a9a78980aeaa8060f7c1c7a841dede48bc7b204a",
        "_cell_guid": "931d36fb-3994-4f23-b45a-9b3f11877a82",
        "trusted": false,
        "collapsed": true
      },
      "cell_type": "code",
      "source": "",
      "execution_count": null,
      "outputs": []
    },
    {
      "metadata": {
        "_uuid": "768dd1770f521b77bec02f189a6a208f65456b63",
        "_cell_guid": "3221180a-9ba8-4f29-92d3-df13b2fe8f49",
        "collapsed": true,
        "trusted": false
      },
      "cell_type": "code",
      "source": "",
      "execution_count": null,
      "outputs": []
    }
  ],
  "metadata": {
    "kernelspec": {
      "display_name": "Python 3",
      "language": "python",
      "name": "python3"
    },
    "language_info": {
      "codemirror_mode": {
        "version": 3,
        "name": "ipython"
      },
      "name": "python",
      "file_extension": ".py",
      "nbconvert_exporter": "python",
      "mimetype": "text/x-python",
      "version": "3.6.4",
      "pygments_lexer": "ipython3"
    }
  },
  "nbformat": 4,
  "nbformat_minor": 1
}