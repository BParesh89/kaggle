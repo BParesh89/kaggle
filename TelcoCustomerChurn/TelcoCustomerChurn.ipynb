{
 "cells": [
  {
   "cell_type": "markdown",
   "metadata": {},
   "source": [
    "### Telco Customer Churn Analysis "
   ]
  },
  {
   "cell_type": "markdown",
   "metadata": {},
   "source": [
    "Customer churn - or attrition - measures the number of clients who discontinue a service (cellphone plan, bank account, SaaS application...) or stop buying products (retail, e-commerce...) in a given time period. This dataset for Telecom customer churn is picked up from [IBM Watson Sample datasets](https://www.ibm.com/communities/analytics/watson-analytics-blog/guide-to-sample-datasets/). \n",
    "\n",
    "This dataset contains total 7043 records. Each record is unique for a customer identified using feature customerID. Here the target column on which we will peform classification is Churn which tells whether customer churn or not. Dataset contain total 21 columns whose details are below: \n",
    "\n",
    "__customerID__ - Customer ID uniquly identifying record of a customer\n",
    "\n",
    "__gender__ - Customer gender (female, male)\n",
    "\n",
    "__SeniorCitizen__ - Whether the customer is a senior citizen or not (1, 0)\n",
    "\n",
    "__Partner__ - Whether the customer has a partner or not (Yes, No)\n",
    "\n",
    "__Dependents__ - Whether the customer has dependents or not (Yes, No)\n",
    "\n",
    "__tenure__ - Number of months the customer has stayed with the company\n",
    "\n",
    "__PhoneService__ - Whether the customer has a phone service or not (Yes, No)\n",
    "\n",
    "__MultipleLines__ - Whether the customer has multiple lines or not (Yes, No, No phone service)\n",
    "\n",
    "__InternetService__ - Customer’s internet service provider (DSL, Fiber optic, No)\n",
    "\n",
    "__OnlineSecurity__ - Whether the customer has online security or not (Yes, No, No internet service)\n",
    "\n",
    "__OnlineBackup__ - Whether the customer has online backup or not (Yes, No, No internet service)\n",
    "\n",
    "__DeviceProtection__ - Whether the customer has device protection or not (Yes, No, No internet service)\n",
    "\n",
    "__TechSupport__ - Whether the customer has tech support or not (Yes, No, No internet service)\n",
    "\n",
    "__StreamingTV__ - Whether the customer has streaming TV or not (Yes, No, No internet service)\n",
    "\n",
    "__StreamingMovies__ - Whether the customer has streaming movies or not (Yes, No, No internet service)\n",
    "\n",
    "__Contract__ -The contract term of the customer (Month-to-month, One year, Two year)\n",
    "\n",
    "__PaperlessBilling__ - Whether the customer has paperless billing or not (Yes, No)\n",
    "\n",
    "__PaymentMethod__ - The customer’s payment method (Electronic check, Mailed check, Bank transfer (automatic), Credit card (automatic))\n",
    "\n",
    "__MonthlyCharges__ - The amount charged to the customer monthly\n",
    "\n",
    "__TotalCharges__ - The total amount charged to the customer\n",
    "\n",
    "__Churn__ -Whether the customer churned or not (Yes or No)\n"
   ]
  },
  {
   "cell_type": "markdown",
   "metadata": {},
   "source": [
    "### Import libraries and dataset"
   ]
  },
  {
   "cell_type": "code",
   "execution_count": 108,
   "metadata": {},
   "outputs": [
    {
     "data": {
      "text/html": [
       "<script>requirejs.config({paths: { 'plotly': ['https://cdn.plot.ly/plotly-latest.min']},});if(!window.Plotly) {{require(['plotly'],function(plotly) {window.Plotly=plotly;});}}</script>"
      ],
      "text/vnd.plotly.v1+html": [
       "<script>requirejs.config({paths: { 'plotly': ['https://cdn.plot.ly/plotly-latest.min']},});if(!window.Plotly) {{require(['plotly'],function(plotly) {window.Plotly=plotly;});}}</script>"
      ]
     },
     "metadata": {},
     "output_type": "display_data"
    }
   ],
   "source": [
    "#import basic libraries\n",
    "import numpy as np\n",
    "import pandas as pd\n",
    "import seaborn as sns\n",
    "import matplotlib.pyplot as plt\n",
    "%matplotlib inline\n",
    "from plotly.offline import init_notebook_mode, iplot\n",
    "import plotly.graph_objs as go\n",
    "import plotly.plotly as py\n",
    "from plotly import tools\n",
    "import plotly.figure_factory as ff\n",
    "init_notebook_mode(connected=True)\n",
    "\n",
    "plt.style.use('fivethirtyeight')\n"
   ]
  },
  {
   "cell_type": "code",
   "execution_count": 109,
   "metadata": {},
   "outputs": [
    {
     "data": {
      "text/html": [
       "<div>\n",
       "<style scoped>\n",
       "    .dataframe tbody tr th:only-of-type {\n",
       "        vertical-align: middle;\n",
       "    }\n",
       "\n",
       "    .dataframe tbody tr th {\n",
       "        vertical-align: top;\n",
       "    }\n",
       "\n",
       "    .dataframe thead th {\n",
       "        text-align: right;\n",
       "    }\n",
       "</style>\n",
       "<table border=\"1\" class=\"dataframe\">\n",
       "  <thead>\n",
       "    <tr style=\"text-align: right;\">\n",
       "      <th></th>\n",
       "      <th>customerID</th>\n",
       "      <th>gender</th>\n",
       "      <th>SeniorCitizen</th>\n",
       "      <th>Partner</th>\n",
       "      <th>Dependents</th>\n",
       "      <th>tenure</th>\n",
       "      <th>PhoneService</th>\n",
       "      <th>MultipleLines</th>\n",
       "      <th>InternetService</th>\n",
       "      <th>OnlineSecurity</th>\n",
       "      <th>...</th>\n",
       "      <th>DeviceProtection</th>\n",
       "      <th>TechSupport</th>\n",
       "      <th>StreamingTV</th>\n",
       "      <th>StreamingMovies</th>\n",
       "      <th>Contract</th>\n",
       "      <th>PaperlessBilling</th>\n",
       "      <th>PaymentMethod</th>\n",
       "      <th>MonthlyCharges</th>\n",
       "      <th>TotalCharges</th>\n",
       "      <th>Churn</th>\n",
       "    </tr>\n",
       "  </thead>\n",
       "  <tbody>\n",
       "    <tr>\n",
       "      <th>0</th>\n",
       "      <td>7590-VHVEG</td>\n",
       "      <td>Female</td>\n",
       "      <td>0</td>\n",
       "      <td>Yes</td>\n",
       "      <td>No</td>\n",
       "      <td>1</td>\n",
       "      <td>No</td>\n",
       "      <td>No phone service</td>\n",
       "      <td>DSL</td>\n",
       "      <td>No</td>\n",
       "      <td>...</td>\n",
       "      <td>No</td>\n",
       "      <td>No</td>\n",
       "      <td>No</td>\n",
       "      <td>No</td>\n",
       "      <td>Month-to-month</td>\n",
       "      <td>Yes</td>\n",
       "      <td>Electronic check</td>\n",
       "      <td>29.85</td>\n",
       "      <td>29.85</td>\n",
       "      <td>No</td>\n",
       "    </tr>\n",
       "    <tr>\n",
       "      <th>1</th>\n",
       "      <td>5575-GNVDE</td>\n",
       "      <td>Male</td>\n",
       "      <td>0</td>\n",
       "      <td>No</td>\n",
       "      <td>No</td>\n",
       "      <td>34</td>\n",
       "      <td>Yes</td>\n",
       "      <td>No</td>\n",
       "      <td>DSL</td>\n",
       "      <td>Yes</td>\n",
       "      <td>...</td>\n",
       "      <td>Yes</td>\n",
       "      <td>No</td>\n",
       "      <td>No</td>\n",
       "      <td>No</td>\n",
       "      <td>One year</td>\n",
       "      <td>No</td>\n",
       "      <td>Mailed check</td>\n",
       "      <td>56.95</td>\n",
       "      <td>1889.5</td>\n",
       "      <td>No</td>\n",
       "    </tr>\n",
       "    <tr>\n",
       "      <th>2</th>\n",
       "      <td>3668-QPYBK</td>\n",
       "      <td>Male</td>\n",
       "      <td>0</td>\n",
       "      <td>No</td>\n",
       "      <td>No</td>\n",
       "      <td>2</td>\n",
       "      <td>Yes</td>\n",
       "      <td>No</td>\n",
       "      <td>DSL</td>\n",
       "      <td>Yes</td>\n",
       "      <td>...</td>\n",
       "      <td>No</td>\n",
       "      <td>No</td>\n",
       "      <td>No</td>\n",
       "      <td>No</td>\n",
       "      <td>Month-to-month</td>\n",
       "      <td>Yes</td>\n",
       "      <td>Mailed check</td>\n",
       "      <td>53.85</td>\n",
       "      <td>108.15</td>\n",
       "      <td>Yes</td>\n",
       "    </tr>\n",
       "    <tr>\n",
       "      <th>3</th>\n",
       "      <td>7795-CFOCW</td>\n",
       "      <td>Male</td>\n",
       "      <td>0</td>\n",
       "      <td>No</td>\n",
       "      <td>No</td>\n",
       "      <td>45</td>\n",
       "      <td>No</td>\n",
       "      <td>No phone service</td>\n",
       "      <td>DSL</td>\n",
       "      <td>Yes</td>\n",
       "      <td>...</td>\n",
       "      <td>Yes</td>\n",
       "      <td>Yes</td>\n",
       "      <td>No</td>\n",
       "      <td>No</td>\n",
       "      <td>One year</td>\n",
       "      <td>No</td>\n",
       "      <td>Bank transfer (automatic)</td>\n",
       "      <td>42.30</td>\n",
       "      <td>1840.75</td>\n",
       "      <td>No</td>\n",
       "    </tr>\n",
       "    <tr>\n",
       "      <th>4</th>\n",
       "      <td>9237-HQITU</td>\n",
       "      <td>Female</td>\n",
       "      <td>0</td>\n",
       "      <td>No</td>\n",
       "      <td>No</td>\n",
       "      <td>2</td>\n",
       "      <td>Yes</td>\n",
       "      <td>No</td>\n",
       "      <td>Fiber optic</td>\n",
       "      <td>No</td>\n",
       "      <td>...</td>\n",
       "      <td>No</td>\n",
       "      <td>No</td>\n",
       "      <td>No</td>\n",
       "      <td>No</td>\n",
       "      <td>Month-to-month</td>\n",
       "      <td>Yes</td>\n",
       "      <td>Electronic check</td>\n",
       "      <td>70.70</td>\n",
       "      <td>151.65</td>\n",
       "      <td>Yes</td>\n",
       "    </tr>\n",
       "  </tbody>\n",
       "</table>\n",
       "<p>5 rows × 21 columns</p>\n",
       "</div>"
      ],
      "text/plain": [
       "   customerID  gender  SeniorCitizen Partner Dependents  tenure PhoneService  \\\n",
       "0  7590-VHVEG  Female              0     Yes         No       1           No   \n",
       "1  5575-GNVDE    Male              0      No         No      34          Yes   \n",
       "2  3668-QPYBK    Male              0      No         No       2          Yes   \n",
       "3  7795-CFOCW    Male              0      No         No      45           No   \n",
       "4  9237-HQITU  Female              0      No         No       2          Yes   \n",
       "\n",
       "      MultipleLines InternetService OnlineSecurity  ...  DeviceProtection  \\\n",
       "0  No phone service             DSL             No  ...                No   \n",
       "1                No             DSL            Yes  ...               Yes   \n",
       "2                No             DSL            Yes  ...                No   \n",
       "3  No phone service             DSL            Yes  ...               Yes   \n",
       "4                No     Fiber optic             No  ...                No   \n",
       "\n",
       "  TechSupport StreamingTV StreamingMovies        Contract PaperlessBilling  \\\n",
       "0          No          No              No  Month-to-month              Yes   \n",
       "1          No          No              No        One year               No   \n",
       "2          No          No              No  Month-to-month              Yes   \n",
       "3         Yes          No              No        One year               No   \n",
       "4          No          No              No  Month-to-month              Yes   \n",
       "\n",
       "               PaymentMethod MonthlyCharges  TotalCharges Churn  \n",
       "0           Electronic check          29.85         29.85    No  \n",
       "1               Mailed check          56.95        1889.5    No  \n",
       "2               Mailed check          53.85        108.15   Yes  \n",
       "3  Bank transfer (automatic)          42.30       1840.75    No  \n",
       "4           Electronic check          70.70        151.65   Yes  \n",
       "\n",
       "[5 rows x 21 columns]"
      ]
     },
     "execution_count": 109,
     "metadata": {},
     "output_type": "execute_result"
    }
   ],
   "source": [
    "#import the dataset\n",
    "data = pd.read_csv('Telco-Customer-Churn.csv')\n",
    "#snapshot of data\n",
    "data.head()"
   ]
  },
  {
   "cell_type": "code",
   "execution_count": 110,
   "metadata": {},
   "outputs": [
    {
     "name": "stdout",
     "output_type": "stream",
     "text": [
      "<class 'pandas.core.frame.DataFrame'>\n",
      "RangeIndex: 7043 entries, 0 to 7042\n",
      "Data columns (total 21 columns):\n",
      "customerID          7043 non-null object\n",
      "gender              7043 non-null object\n",
      "SeniorCitizen       7043 non-null int64\n",
      "Partner             7043 non-null object\n",
      "Dependents          7043 non-null object\n",
      "tenure              7043 non-null int64\n",
      "PhoneService        7043 non-null object\n",
      "MultipleLines       7043 non-null object\n",
      "InternetService     7043 non-null object\n",
      "OnlineSecurity      7043 non-null object\n",
      "OnlineBackup        7043 non-null object\n",
      "DeviceProtection    7043 non-null object\n",
      "TechSupport         7043 non-null object\n",
      "StreamingTV         7043 non-null object\n",
      "StreamingMovies     7043 non-null object\n",
      "Contract            7043 non-null object\n",
      "PaperlessBilling    7043 non-null object\n",
      "PaymentMethod       7043 non-null object\n",
      "MonthlyCharges      7043 non-null float64\n",
      "TotalCharges        7043 non-null object\n",
      "Churn               7043 non-null object\n",
      "dtypes: float64(1), int64(2), object(18)\n",
      "memory usage: 1.1+ MB\n"
     ]
    }
   ],
   "source": [
    "#column datatypes\n",
    "data.info()"
   ]
  },
  {
   "cell_type": "markdown",
   "metadata": {},
   "source": [
    "#### Here by going through data description, we have 4 numeric variables and 17 categorical variables(including target)."
   ]
  },
  {
   "cell_type": "markdown",
   "metadata": {},
   "source": [
    "### Exploratory Data Analysis"
   ]
  },
  {
   "cell_type": "code",
   "execution_count": 111,
   "metadata": {},
   "outputs": [
    {
     "data": {
      "application/vnd.plotly.v1+json": {
       "data": [
        {
         "labels": [
          "No",
          "Yes"
         ],
         "marker": {
          "colors": [
           "orange",
           "green"
          ]
         },
         "type": "pie",
         "values": [
          5174,
          1869
         ]
        }
       ],
       "layout": {
        "height": 500,
        "margin": {
         "l": 150
        },
        "title": "Telco Customer Churn Ratio",
        "width": 500
       }
      },
      "text/html": [
       "<div id=\"0cee62c7-1194-47a3-9c92-4d331e5da777\" style=\"height: 500px; width: 500px;\" class=\"plotly-graph-div\"></div><script type=\"text/javascript\">require([\"plotly\"], function(Plotly) { window.PLOTLYENV=window.PLOTLYENV || {};window.PLOTLYENV.BASE_URL=\"https://plot.ly\";Plotly.newPlot(\"0cee62c7-1194-47a3-9c92-4d331e5da777\", [{\"type\": \"pie\", \"labels\": [\"No\", \"Yes\"], \"values\": [5174, 1869], \"marker\": {\"colors\": [\"orange\", \"green\"]}}], {\"title\": \"Telco Customer Churn Ratio\", \"margin\": {\"l\": 150}, \"width\": 500, \"height\": 500}, {\"showLink\": true, \"linkText\": \"Export to plot.ly\"})});</script>"
      ],
      "text/vnd.plotly.v1+html": [
       "<div id=\"0cee62c7-1194-47a3-9c92-4d331e5da777\" style=\"height: 500px; width: 500px;\" class=\"plotly-graph-div\"></div><script type=\"text/javascript\">require([\"plotly\"], function(Plotly) { window.PLOTLYENV=window.PLOTLYENV || {};window.PLOTLYENV.BASE_URL=\"https://plot.ly\";Plotly.newPlot(\"0cee62c7-1194-47a3-9c92-4d331e5da777\", [{\"type\": \"pie\", \"labels\": [\"No\", \"Yes\"], \"values\": [5174, 1869], \"marker\": {\"colors\": [\"orange\", \"green\"]}}], {\"title\": \"Telco Customer Churn Ratio\", \"margin\": {\"l\": 150}, \"width\": 500, \"height\": 500}, {\"showLink\": true, \"linkText\": \"Export to plot.ly\"})});</script>"
      ]
     },
     "metadata": {},
     "output_type": "display_data"
    },
    {
     "name": "stdout",
     "output_type": "stream",
     "text": [
      "No     5174\n",
      "Yes    1869\n",
      "Name: Churn, dtype: int64\n"
     ]
    }
   ],
   "source": [
    "#counts of customer churn cases vs not churn in dataset\n",
    "target= data['Churn'].value_counts()\n",
    "levels = ['No','Yes']\n",
    "trace = go.Pie(labels=target.index,values=target.values,\n",
    "               marker=dict(colors=('orange','green')))\n",
    "layout = dict(title=\"Telco Customer Churn Ratio\", margin=dict(l=150), width=500, height=500)\n",
    "figdata = [trace]\n",
    "fig = go.Figure(data=figdata, layout=layout)\n",
    "iplot(fig)\n",
    "#print target class counts\n",
    "print(target)\n"
   ]
  },
  {
   "cell_type": "markdown",
   "metadata": {},
   "source": [
    "In pie-chart, we can see from data we have, 26.5% of total customers in dataset churn. "
   ]
  },
  {
   "cell_type": "code",
   "execution_count": 112,
   "metadata": {},
   "outputs": [],
   "source": [
    "#Let's visualize the churn on the basis of Gender\n",
    "def bar_plot(col,data,barmode='group',width=800,height=600,color1='orange',color2='purple'):\n",
    "    values = list(data[col].value_counts().keys())\n",
    "    if values ==[0,1]:\n",
    "        data[col].replace(0,'No',inplace=True)\n",
    "        data[col].replace(1,'Yes',inplace=True)\n",
    "        values = list(data[col].value_counts().keys())\n",
    "#     tr1 = data[data['Churn'] == 'No'][col].value_counts().to_dict()\n",
    "#     tr2 = data[data['Churn'] == 'Yes'][col].value_counts().to_dict()\n",
    "    tr1 = data[data[col]==values[0]]['Churn'].value_counts().to_dict()\n",
    "    tr2 = data[data[col]==values[1]]['Churn'].value_counts().to_dict()\n",
    "    xx = ['Male', 'Female']\n",
    "    trace1 = go.Bar(y=[tr1['No'], tr2['No']], name=\"Not Churn\", x=values, marker=dict(color=color1))\n",
    "    trace2 = go.Bar(y=[tr1['Yes'], tr2['Yes']], name=\"Churn\", x=values, marker=dict(color=color2))\n",
    "    data = [trace1, trace2]\n",
    "    layout = go.Layout(\n",
    "        barmode=barmode,xaxis = dict(title=col),yaxis=dict(title='Count'),\n",
    "    title='Effect of '+ col + ' on Customer Churn',width=width,height=height)\n",
    "    fig = go.Figure(data=data, layout=layout)\n",
    "    iplot(fig)\n"
   ]
  },
  {
   "cell_type": "code",
   "execution_count": 113,
   "metadata": {},
   "outputs": [
    {
     "data": {
      "application/vnd.plotly.v1+json": {
       "data": [
        {
         "marker": {
          "color": "orange"
         },
         "name": "Not Churn",
         "type": "bar",
         "x": [
          "Male",
          "Female"
         ],
         "y": [
          2625,
          2549
         ]
        },
        {
         "marker": {
          "color": "purple"
         },
         "name": "Churn",
         "type": "bar",
         "x": [
          "Male",
          "Female"
         ],
         "y": [
          930,
          939
         ]
        }
       ],
       "layout": {
        "barmode": "group",
        "height": 600,
        "title": "Effect of gender on Customer Churn",
        "width": 800,
        "xaxis": {
         "title": "gender"
        },
        "yaxis": {
         "title": "Count"
        }
       }
      },
      "text/html": [
       "<div id=\"9fa1719f-29e7-44d4-a0eb-31a9fcd9a2cc\" style=\"height: 600px; width: 800px;\" class=\"plotly-graph-div\"></div><script type=\"text/javascript\">require([\"plotly\"], function(Plotly) { window.PLOTLYENV=window.PLOTLYENV || {};window.PLOTLYENV.BASE_URL=\"https://plot.ly\";Plotly.newPlot(\"9fa1719f-29e7-44d4-a0eb-31a9fcd9a2cc\", [{\"type\": \"bar\", \"y\": [2625, 2549], \"name\": \"Not Churn\", \"x\": [\"Male\", \"Female\"], \"marker\": {\"color\": \"orange\"}}, {\"type\": \"bar\", \"y\": [930, 939], \"name\": \"Churn\", \"x\": [\"Male\", \"Female\"], \"marker\": {\"color\": \"purple\"}}], {\"barmode\": \"group\", \"xaxis\": {\"title\": \"gender\"}, \"yaxis\": {\"title\": \"Count\"}, \"title\": \"Effect of gender on Customer Churn\", \"width\": 800, \"height\": 600}, {\"showLink\": true, \"linkText\": \"Export to plot.ly\"})});</script>"
      ],
      "text/vnd.plotly.v1+html": [
       "<div id=\"9fa1719f-29e7-44d4-a0eb-31a9fcd9a2cc\" style=\"height: 600px; width: 800px;\" class=\"plotly-graph-div\"></div><script type=\"text/javascript\">require([\"plotly\"], function(Plotly) { window.PLOTLYENV=window.PLOTLYENV || {};window.PLOTLYENV.BASE_URL=\"https://plot.ly\";Plotly.newPlot(\"9fa1719f-29e7-44d4-a0eb-31a9fcd9a2cc\", [{\"type\": \"bar\", \"y\": [2625, 2549], \"name\": \"Not Churn\", \"x\": [\"Male\", \"Female\"], \"marker\": {\"color\": \"orange\"}}, {\"type\": \"bar\", \"y\": [930, 939], \"name\": \"Churn\", \"x\": [\"Male\", \"Female\"], \"marker\": {\"color\": \"purple\"}}], {\"barmode\": \"group\", \"xaxis\": {\"title\": \"gender\"}, \"yaxis\": {\"title\": \"Count\"}, \"title\": \"Effect of gender on Customer Churn\", \"width\": 800, \"height\": 600}, {\"showLink\": true, \"linkText\": \"Export to plot.ly\"})});</script>"
      ]
     },
     "metadata": {},
     "output_type": "display_data"
    }
   ],
   "source": [
    "#Comparison of churn between male and female\n",
    "bar_plot('gender',data)"
   ]
  },
  {
   "cell_type": "markdown",
   "metadata": {},
   "source": [
    "There is almost no difference in churn ratio for male and female."
   ]
  },
  {
   "cell_type": "code",
   "execution_count": 114,
   "metadata": {},
   "outputs": [
    {
     "data": {
      "application/vnd.plotly.v1+json": {
       "data": [
        {
         "marker": {
          "color": "orange"
         },
         "name": "Not Churn",
         "type": "bar",
         "x": [
          "No",
          "Yes"
         ],
         "y": [
          4508,
          666
         ]
        },
        {
         "marker": {
          "color": "green"
         },
         "name": "Churn",
         "type": "bar",
         "x": [
          "No",
          "Yes"
         ],
         "y": [
          1393,
          476
         ]
        }
       ],
       "layout": {
        "barmode": "stack",
        "height": 400,
        "title": "Effect of SeniorCitizen on Customer Churn",
        "width": 600,
        "xaxis": {
         "title": "SeniorCitizen"
        },
        "yaxis": {
         "title": "Count"
        }
       }
      },
      "text/html": [
       "<div id=\"479a5a83-7a36-41dd-9fa8-cbaab5ef3c5a\" style=\"height: 400px; width: 600px;\" class=\"plotly-graph-div\"></div><script type=\"text/javascript\">require([\"plotly\"], function(Plotly) { window.PLOTLYENV=window.PLOTLYENV || {};window.PLOTLYENV.BASE_URL=\"https://plot.ly\";Plotly.newPlot(\"479a5a83-7a36-41dd-9fa8-cbaab5ef3c5a\", [{\"type\": \"bar\", \"y\": [4508, 666], \"name\": \"Not Churn\", \"x\": [\"No\", \"Yes\"], \"marker\": {\"color\": \"orange\"}}, {\"type\": \"bar\", \"y\": [1393, 476], \"name\": \"Churn\", \"x\": [\"No\", \"Yes\"], \"marker\": {\"color\": \"green\"}}], {\"barmode\": \"stack\", \"xaxis\": {\"title\": \"SeniorCitizen\"}, \"yaxis\": {\"title\": \"Count\"}, \"title\": \"Effect of SeniorCitizen on Customer Churn\", \"width\": 600, \"height\": 400}, {\"showLink\": true, \"linkText\": \"Export to plot.ly\"})});</script>"
      ],
      "text/vnd.plotly.v1+html": [
       "<div id=\"479a5a83-7a36-41dd-9fa8-cbaab5ef3c5a\" style=\"height: 400px; width: 600px;\" class=\"plotly-graph-div\"></div><script type=\"text/javascript\">require([\"plotly\"], function(Plotly) { window.PLOTLYENV=window.PLOTLYENV || {};window.PLOTLYENV.BASE_URL=\"https://plot.ly\";Plotly.newPlot(\"479a5a83-7a36-41dd-9fa8-cbaab5ef3c5a\", [{\"type\": \"bar\", \"y\": [4508, 666], \"name\": \"Not Churn\", \"x\": [\"No\", \"Yes\"], \"marker\": {\"color\": \"orange\"}}, {\"type\": \"bar\", \"y\": [1393, 476], \"name\": \"Churn\", \"x\": [\"No\", \"Yes\"], \"marker\": {\"color\": \"green\"}}], {\"barmode\": \"stack\", \"xaxis\": {\"title\": \"SeniorCitizen\"}, \"yaxis\": {\"title\": \"Count\"}, \"title\": \"Effect of SeniorCitizen on Customer Churn\", \"width\": 600, \"height\": 400}, {\"showLink\": true, \"linkText\": \"Export to plot.ly\"})});</script>"
      ]
     },
     "metadata": {},
     "output_type": "display_data"
    }
   ],
   "source": [
    "#Let's visualize the churn ratio for senior citizens\n",
    "bar_plot('SeniorCitizen',data,barmode='stack',width=600,height=400,color1='orange',color2='green')"
   ]
  },
  {
   "cell_type": "markdown",
   "metadata": {},
   "source": [
    "Churn rate for senior citizens is significanlty higher as compared to non-senior citizens."
   ]
  },
  {
   "cell_type": "code",
   "execution_count": 115,
   "metadata": {},
   "outputs": [
    {
     "data": {
      "application/vnd.plotly.v1+json": {
       "data": [
        {
         "marker": {
          "color": "blue"
         },
         "name": "Not Churn",
         "type": "bar",
         "x": [
          "No",
          "Yes"
         ],
         "y": [
          2441,
          2733
         ]
        },
        {
         "marker": {
          "color": "pink"
         },
         "name": "Churn",
         "type": "bar",
         "x": [
          "No",
          "Yes"
         ],
         "y": [
          1200,
          669
         ]
        }
       ],
       "layout": {
        "barmode": "stack",
        "height": 400,
        "title": "Effect of Partner on Customer Churn",
        "width": 600,
        "xaxis": {
         "title": "Partner"
        },
        "yaxis": {
         "title": "Count"
        }
       }
      },
      "text/html": [
       "<div id=\"875c9513-7872-4eb1-ad69-ddb42ed675d7\" style=\"height: 400px; width: 600px;\" class=\"plotly-graph-div\"></div><script type=\"text/javascript\">require([\"plotly\"], function(Plotly) { window.PLOTLYENV=window.PLOTLYENV || {};window.PLOTLYENV.BASE_URL=\"https://plot.ly\";Plotly.newPlot(\"875c9513-7872-4eb1-ad69-ddb42ed675d7\", [{\"type\": \"bar\", \"y\": [2441, 2733], \"name\": \"Not Churn\", \"x\": [\"No\", \"Yes\"], \"marker\": {\"color\": \"blue\"}}, {\"type\": \"bar\", \"y\": [1200, 669], \"name\": \"Churn\", \"x\": [\"No\", \"Yes\"], \"marker\": {\"color\": \"pink\"}}], {\"barmode\": \"stack\", \"xaxis\": {\"title\": \"Partner\"}, \"yaxis\": {\"title\": \"Count\"}, \"title\": \"Effect of Partner on Customer Churn\", \"width\": 600, \"height\": 400}, {\"showLink\": true, \"linkText\": \"Export to plot.ly\"})});</script>"
      ],
      "text/vnd.plotly.v1+html": [
       "<div id=\"875c9513-7872-4eb1-ad69-ddb42ed675d7\" style=\"height: 400px; width: 600px;\" class=\"plotly-graph-div\"></div><script type=\"text/javascript\">require([\"plotly\"], function(Plotly) { window.PLOTLYENV=window.PLOTLYENV || {};window.PLOTLYENV.BASE_URL=\"https://plot.ly\";Plotly.newPlot(\"875c9513-7872-4eb1-ad69-ddb42ed675d7\", [{\"type\": \"bar\", \"y\": [2441, 2733], \"name\": \"Not Churn\", \"x\": [\"No\", \"Yes\"], \"marker\": {\"color\": \"blue\"}}, {\"type\": \"bar\", \"y\": [1200, 669], \"name\": \"Churn\", \"x\": [\"No\", \"Yes\"], \"marker\": {\"color\": \"pink\"}}], {\"barmode\": \"stack\", \"xaxis\": {\"title\": \"Partner\"}, \"yaxis\": {\"title\": \"Count\"}, \"title\": \"Effect of Partner on Customer Churn\", \"width\": 600, \"height\": 400}, {\"showLink\": true, \"linkText\": \"Export to plot.ly\"})});</script>"
      ]
     },
     "metadata": {},
     "output_type": "display_data"
    }
   ],
   "source": [
    "#let's visualize the impact of having partner on customer churn\n",
    "bar_plot('Partner',data,barmode='stack',width=600,height=400,color1='blue',color2='pink')"
   ]
  },
  {
   "cell_type": "markdown",
   "metadata": {},
   "source": [
    "From above bar chart, we can see that churn ratio for people having partners is lower than that of the one not having a partner."
   ]
  },
  {
   "cell_type": "code",
   "execution_count": 116,
   "metadata": {},
   "outputs": [
    {
     "data": {
      "application/vnd.plotly.v1+json": {
       "data": [
        {
         "marker": {
          "color": "orange"
         },
         "name": "Not Churn",
         "type": "bar",
         "x": [
          "No",
          "Yes"
         ],
         "y": [
          3390,
          1784
         ]
        },
        {
         "marker": {
          "color": "purple"
         },
         "name": "Churn",
         "type": "bar",
         "x": [
          "No",
          "Yes"
         ],
         "y": [
          1543,
          326
         ]
        }
       ],
       "layout": {
        "barmode": "stack",
        "height": 400,
        "title": "Effect of Dependents on Customer Churn",
        "width": 600,
        "xaxis": {
         "title": "Dependents"
        },
        "yaxis": {
         "title": "Count"
        }
       }
      },
      "text/html": [
       "<div id=\"c30c8bd3-1837-4377-8267-afa365c435f0\" style=\"height: 400px; width: 600px;\" class=\"plotly-graph-div\"></div><script type=\"text/javascript\">require([\"plotly\"], function(Plotly) { window.PLOTLYENV=window.PLOTLYENV || {};window.PLOTLYENV.BASE_URL=\"https://plot.ly\";Plotly.newPlot(\"c30c8bd3-1837-4377-8267-afa365c435f0\", [{\"type\": \"bar\", \"y\": [3390, 1784], \"name\": \"Not Churn\", \"x\": [\"No\", \"Yes\"], \"marker\": {\"color\": \"orange\"}}, {\"type\": \"bar\", \"y\": [1543, 326], \"name\": \"Churn\", \"x\": [\"No\", \"Yes\"], \"marker\": {\"color\": \"purple\"}}], {\"barmode\": \"stack\", \"xaxis\": {\"title\": \"Dependents\"}, \"yaxis\": {\"title\": \"Count\"}, \"title\": \"Effect of Dependents on Customer Churn\", \"width\": 600, \"height\": 400}, {\"showLink\": true, \"linkText\": \"Export to plot.ly\"})});</script>"
      ],
      "text/vnd.plotly.v1+html": [
       "<div id=\"c30c8bd3-1837-4377-8267-afa365c435f0\" style=\"height: 400px; width: 600px;\" class=\"plotly-graph-div\"></div><script type=\"text/javascript\">require([\"plotly\"], function(Plotly) { window.PLOTLYENV=window.PLOTLYENV || {};window.PLOTLYENV.BASE_URL=\"https://plot.ly\";Plotly.newPlot(\"c30c8bd3-1837-4377-8267-afa365c435f0\", [{\"type\": \"bar\", \"y\": [3390, 1784], \"name\": \"Not Churn\", \"x\": [\"No\", \"Yes\"], \"marker\": {\"color\": \"orange\"}}, {\"type\": \"bar\", \"y\": [1543, 326], \"name\": \"Churn\", \"x\": [\"No\", \"Yes\"], \"marker\": {\"color\": \"purple\"}}], {\"barmode\": \"stack\", \"xaxis\": {\"title\": \"Dependents\"}, \"yaxis\": {\"title\": \"Count\"}, \"title\": \"Effect of Dependents on Customer Churn\", \"width\": 600, \"height\": 400}, {\"showLink\": true, \"linkText\": \"Export to plot.ly\"})});</script>"
      ]
     },
     "metadata": {},
     "output_type": "display_data"
    }
   ],
   "source": [
    "#effect of having dependents on churn\n",
    "bar_plot('Dependents',data,barmode='stack',width=600,height=400)"
   ]
  },
  {
   "cell_type": "markdown",
   "metadata": {},
   "source": [
    "People without any dependent have higher churn ratio as compared to one's having dependents."
   ]
  },
  {
   "cell_type": "code",
   "execution_count": 117,
   "metadata": {},
   "outputs": [
    {
     "data": {
      "application/vnd.plotly.v1+json": {
       "data": [
        {
         "marker": {
          "color": "orange"
         },
         "name": "Not Churn",
         "type": "bar",
         "x": [
          "Yes",
          "No"
         ],
         "y": [
          4662,
          512
         ]
        },
        {
         "marker": {
          "color": "purple"
         },
         "name": "Churn",
         "type": "bar",
         "x": [
          "Yes",
          "No"
         ],
         "y": [
          1699,
          170
         ]
        }
       ],
       "layout": {
        "barmode": "group",
        "height": 600,
        "title": "Effect of PhoneService on Customer Churn",
        "width": 800,
        "xaxis": {
         "title": "PhoneService"
        },
        "yaxis": {
         "title": "Count"
        }
       }
      },
      "text/html": [
       "<div id=\"0b55d0f6-c136-4e08-8a9b-3deb001fb503\" style=\"height: 600px; width: 800px;\" class=\"plotly-graph-div\"></div><script type=\"text/javascript\">require([\"plotly\"], function(Plotly) { window.PLOTLYENV=window.PLOTLYENV || {};window.PLOTLYENV.BASE_URL=\"https://plot.ly\";Plotly.newPlot(\"0b55d0f6-c136-4e08-8a9b-3deb001fb503\", [{\"type\": \"bar\", \"y\": [4662, 512], \"name\": \"Not Churn\", \"x\": [\"Yes\", \"No\"], \"marker\": {\"color\": \"orange\"}}, {\"type\": \"bar\", \"y\": [1699, 170], \"name\": \"Churn\", \"x\": [\"Yes\", \"No\"], \"marker\": {\"color\": \"purple\"}}], {\"barmode\": \"group\", \"xaxis\": {\"title\": \"PhoneService\"}, \"yaxis\": {\"title\": \"Count\"}, \"title\": \"Effect of PhoneService on Customer Churn\", \"width\": 800, \"height\": 600}, {\"showLink\": true, \"linkText\": \"Export to plot.ly\"})});</script>"
      ],
      "text/vnd.plotly.v1+html": [
       "<div id=\"0b55d0f6-c136-4e08-8a9b-3deb001fb503\" style=\"height: 600px; width: 800px;\" class=\"plotly-graph-div\"></div><script type=\"text/javascript\">require([\"plotly\"], function(Plotly) { window.PLOTLYENV=window.PLOTLYENV || {};window.PLOTLYENV.BASE_URL=\"https://plot.ly\";Plotly.newPlot(\"0b55d0f6-c136-4e08-8a9b-3deb001fb503\", [{\"type\": \"bar\", \"y\": [4662, 512], \"name\": \"Not Churn\", \"x\": [\"Yes\", \"No\"], \"marker\": {\"color\": \"orange\"}}, {\"type\": \"bar\", \"y\": [1699, 170], \"name\": \"Churn\", \"x\": [\"Yes\", \"No\"], \"marker\": {\"color\": \"purple\"}}], {\"barmode\": \"group\", \"xaxis\": {\"title\": \"PhoneService\"}, \"yaxis\": {\"title\": \"Count\"}, \"title\": \"Effect of PhoneService on Customer Churn\", \"width\": 800, \"height\": 600}, {\"showLink\": true, \"linkText\": \"Export to plot.ly\"})});</script>"
      ]
     },
     "metadata": {},
     "output_type": "display_data"
    }
   ],
   "source": [
    "#effect of phone service on churn\n",
    "bar_plot('PhoneService',data)"
   ]
  },
  {
   "cell_type": "markdown",
   "metadata": {},
   "source": [
    "First observation from above graph is most of the people have Phone Service.Those who don't have may be are only using Internet service of the telecom company.Also, people having phone service have higher churn ratio."
   ]
  },
  {
   "cell_type": "code",
   "execution_count": 118,
   "metadata": {},
   "outputs": [
    {
     "data": {
      "application/vnd.plotly.v1+json": {
       "data": [
        {
         "marker": {
          "color": "orange"
         },
         "name": "Not Churn",
         "type": "bar",
         "x": [
          "Yes",
          "No"
         ],
         "y": [
          2771,
          2403
         ]
        },
        {
         "marker": {
          "color": "purple"
         },
         "name": "Churn",
         "type": "bar",
         "x": [
          "Yes",
          "No"
         ],
         "y": [
          1400,
          469
         ]
        }
       ],
       "layout": {
        "barmode": "group",
        "height": 600,
        "title": "Effect of PaperlessBilling on Customer Churn",
        "width": 800,
        "xaxis": {
         "title": "PaperlessBilling"
        },
        "yaxis": {
         "title": "Count"
        }
       }
      },
      "text/html": [
       "<div id=\"6f9e2efc-0a7c-45dd-a41d-601a7ece0a54\" style=\"height: 600px; width: 800px;\" class=\"plotly-graph-div\"></div><script type=\"text/javascript\">require([\"plotly\"], function(Plotly) { window.PLOTLYENV=window.PLOTLYENV || {};window.PLOTLYENV.BASE_URL=\"https://plot.ly\";Plotly.newPlot(\"6f9e2efc-0a7c-45dd-a41d-601a7ece0a54\", [{\"type\": \"bar\", \"y\": [2771, 2403], \"name\": \"Not Churn\", \"x\": [\"Yes\", \"No\"], \"marker\": {\"color\": \"orange\"}}, {\"type\": \"bar\", \"y\": [1400, 469], \"name\": \"Churn\", \"x\": [\"Yes\", \"No\"], \"marker\": {\"color\": \"purple\"}}], {\"barmode\": \"group\", \"xaxis\": {\"title\": \"PaperlessBilling\"}, \"yaxis\": {\"title\": \"Count\"}, \"title\": \"Effect of PaperlessBilling on Customer Churn\", \"width\": 800, \"height\": 600}, {\"showLink\": true, \"linkText\": \"Export to plot.ly\"})});</script>"
      ],
      "text/vnd.plotly.v1+html": [
       "<div id=\"6f9e2efc-0a7c-45dd-a41d-601a7ece0a54\" style=\"height: 600px; width: 800px;\" class=\"plotly-graph-div\"></div><script type=\"text/javascript\">require([\"plotly\"], function(Plotly) { window.PLOTLYENV=window.PLOTLYENV || {};window.PLOTLYENV.BASE_URL=\"https://plot.ly\";Plotly.newPlot(\"6f9e2efc-0a7c-45dd-a41d-601a7ece0a54\", [{\"type\": \"bar\", \"y\": [2771, 2403], \"name\": \"Not Churn\", \"x\": [\"Yes\", \"No\"], \"marker\": {\"color\": \"orange\"}}, {\"type\": \"bar\", \"y\": [1400, 469], \"name\": \"Churn\", \"x\": [\"Yes\", \"No\"], \"marker\": {\"color\": \"purple\"}}], {\"barmode\": \"group\", \"xaxis\": {\"title\": \"PaperlessBilling\"}, \"yaxis\": {\"title\": \"Count\"}, \"title\": \"Effect of PaperlessBilling on Customer Churn\", \"width\": 800, \"height\": 600}, {\"showLink\": true, \"linkText\": \"Export to plot.ly\"})});</script>"
      ]
     },
     "metadata": {},
     "output_type": "display_data"
    }
   ],
   "source": [
    "#let's check effect of PaperlessBilling\n",
    "bar_plot('PaperlessBilling',data)"
   ]
  },
  {
   "cell_type": "markdown",
   "metadata": {},
   "source": [
    "People not haivng paperless billing have higher churn ratio as compared to having paperless billing. Also, more people have paperless billing. It's good that people prefer eco-friendly bills!"
   ]
  },
  {
   "cell_type": "code",
   "execution_count": 119,
   "metadata": {},
   "outputs": [],
   "source": [
    "# values = list(data['gender'].value_counts().keys())\n",
    "# tr1 = data[data['gender']==values[0]]['Churn'].value_counts().to_dict()\n",
    "# tr1['No']"
   ]
  },
  {
   "cell_type": "code",
   "execution_count": 120,
   "metadata": {},
   "outputs": [
    {
     "name": "stderr",
     "output_type": "stream",
     "text": [
      "C:\\Users\\PareshBhatia\\Anaconda3\\lib\\site-packages\\seaborn\\categorical.py:1460: FutureWarning:\n",
      "\n",
      "remove_na is deprecated and is a private function. Do not use.\n",
      "\n"
     ]
    },
    {
     "data": {
      "text/plain": [
       "<matplotlib.axes._subplots.AxesSubplot at 0x2246bbd0208>"
      ]
     },
     "execution_count": 120,
     "metadata": {},
     "output_type": "execute_result"
    },
    {
     "data": {
      "image/png": "[encoded data removed]",
      "text/plain": [
       "<matplotlib.figure.Figure at 0x22463634c88>"
      ]
     },
     "metadata": {},
     "output_type": "display_data"
    }
   ],
   "source": [
    "#counts of billing frequency or contacts\n",
    "fig = plt.gcf()\n",
    "fig.set_size_inches( 7, 5)\n",
    "plt.title('Counts of billing frequencies')\n",
    "sns.countplot(data['Contract'])\n"
   ]
  },
  {
   "cell_type": "markdown",
   "metadata": {},
   "source": [
    "Most of the people have monthly billing cycle."
   ]
  },
  {
   "cell_type": "code",
   "execution_count": 121,
   "metadata": {},
   "outputs": [
    {
     "name": "stderr",
     "output_type": "stream",
     "text": [
      "C:\\Users\\PareshBhatia\\Anaconda3\\lib\\site-packages\\seaborn\\categorical.py:1460: FutureWarning:\n",
      "\n",
      "remove_na is deprecated and is a private function. Do not use.\n",
      "\n"
     ]
    },
    {
     "data": {
      "text/plain": [
       "<matplotlib.axes._subplots.AxesSubplot at 0x2246bbdef60>"
      ]
     },
     "execution_count": 121,
     "metadata": {},
     "output_type": "execute_result"
    },
    {
     "data": {
      "image/png": "[encoded data removed]",
      "text/plain": [
       "<matplotlib.figure.Figure at 0x2246bbfc828>"
      ]
     },
     "metadata": {},
     "output_type": "display_data"
    }
   ],
   "source": [
    "#Use of differnt Internet service lines\n",
    "fig = plt.gcf()\n",
    "fig.set_size_inches( 7, 5)\n",
    "plt.title('Counts of different interent service lines')\n",
    "sns.countplot(data['InternetService'])"
   ]
  },
  {
   "cell_type": "markdown",
   "metadata": {},
   "source": [
    "Most of the people who have internet service uses fiber optic lines."
   ]
  },
  {
   "cell_type": "code",
   "execution_count": 122,
   "metadata": {},
   "outputs": [
    {
     "name": "stderr",
     "output_type": "stream",
     "text": [
      "C:\\Users\\PareshBhatia\\Anaconda3\\lib\\site-packages\\seaborn\\categorical.py:1508: FutureWarning:\n",
      "\n",
      "remove_na is deprecated and is a private function. Do not use.\n",
      "\n"
     ]
    },
    {
     "data": {
      "text/plain": [
       "<matplotlib.axes._subplots.AxesSubplot at 0x2246bc14710>"
      ]
     },
     "execution_count": 122,
     "metadata": {},
     "output_type": "execute_result"
    },
    {
     "data": {
      "image/png": "[encoded data removed]",
      "text/plain": [
       "<matplotlib.figure.Figure at 0x2246bc14ef0>"
      ]
     },
     "metadata": {},
     "output_type": "display_data"
    }
   ],
   "source": [
    "#Churn ratio with respect to internet service type\n",
    "fig = plt.gcf()\n",
    "plt.title('Churn ratio with respect to internet service type')\n",
    "fig.set_size_inches( 8, 6)\n",
    "sns.countplot(data['InternetService'],hue=data['Churn'])"
   ]
  },
  {
   "cell_type": "markdown",
   "metadata": {},
   "source": [
    "People using Fiber optic line for internet have higher churn ratio as compared to having DSL line internet."
   ]
  },
  {
   "cell_type": "code",
   "execution_count": 123,
   "metadata": {},
   "outputs": [
    {
     "data": {
      "application/vnd.plotly.v1+json": {
       "data": [
        {
         "labels": [
          "Electronic check",
          "Mailed check",
          "Bank transfer (automatic)",
          "Credit card (automatic)"
         ],
         "type": "pie",
         "values": [
          2365,
          1612,
          1544,
          1522
         ]
        }
       ],
       "layout": {
        "height": 500,
        "margin": {
         "l": 50
        },
        "title": "Telco Customer Payment Method",
        "width": 800
       }
      },
      "text/html": [
       "<div id=\"9dde0018-9689-4089-a0e7-e659bf731655\" style=\"height: 500px; width: 800px;\" class=\"plotly-graph-div\"></div><script type=\"text/javascript\">require([\"plotly\"], function(Plotly) { window.PLOTLYENV=window.PLOTLYENV || {};window.PLOTLYENV.BASE_URL=\"https://plot.ly\";Plotly.newPlot(\"9dde0018-9689-4089-a0e7-e659bf731655\", [{\"type\": \"pie\", \"labels\": [\"Electronic check\", \"Mailed check\", \"Bank transfer (automatic)\", \"Credit card (automatic)\"], \"values\": [2365, 1612, 1544, 1522]}], {\"title\": \"Telco Customer Payment Method\", \"margin\": {\"l\": 50}, \"width\": 800, \"height\": 500}, {\"showLink\": true, \"linkText\": \"Export to plot.ly\"})});</script>"
      ],
      "text/vnd.plotly.v1+html": [
       "<div id=\"9dde0018-9689-4089-a0e7-e659bf731655\" style=\"height: 500px; width: 800px;\" class=\"plotly-graph-div\"></div><script type=\"text/javascript\">require([\"plotly\"], function(Plotly) { window.PLOTLYENV=window.PLOTLYENV || {};window.PLOTLYENV.BASE_URL=\"https://plot.ly\";Plotly.newPlot(\"9dde0018-9689-4089-a0e7-e659bf731655\", [{\"type\": \"pie\", \"labels\": [\"Electronic check\", \"Mailed check\", \"Bank transfer (automatic)\", \"Credit card (automatic)\"], \"values\": [2365, 1612, 1544, 1522]}], {\"title\": \"Telco Customer Payment Method\", \"margin\": {\"l\": 50}, \"width\": 800, \"height\": 500}, {\"showLink\": true, \"linkText\": \"Export to plot.ly\"})});</script>"
      ]
     },
     "metadata": {},
     "output_type": "display_data"
    }
   ],
   "source": [
    "#counts of different bill payment methods using pie chart\n",
    "target= data['PaymentMethod'].value_counts()\n",
    "levels = ['Electronic check','Mailed check','Bank transfer','Credit card']\n",
    "trace = go.Pie(labels=target.index,values=target.values\n",
    "               )\n",
    "layout = dict(title=\"Telco Customer Payment Method\", margin=dict(l=50), width=800, height=500)\n",
    "figdata = [trace]\n",
    "fig = go.Figure(data=figdata, layout=layout)\n",
    "iplot(fig)"
   ]
  },
  {
   "cell_type": "markdown",
   "metadata": {},
   "source": [
    "Around one third customer use Electronic check to pay their telecom bills."
   ]
  },
  {
   "cell_type": "code",
   "execution_count": 124,
   "metadata": {},
   "outputs": [
    {
     "name": "stderr",
     "output_type": "stream",
     "text": [
      "C:\\Users\\PareshBhatia\\Anaconda3\\lib\\site-packages\\seaborn\\categorical.py:1508: FutureWarning:\n",
      "\n",
      "remove_na is deprecated and is a private function. Do not use.\n",
      "\n"
     ]
    },
    {
     "data": {
      "text/plain": [
       "<matplotlib.axes._subplots.AxesSubplot at 0x2246bc05a90>"
      ]
     },
     "execution_count": 124,
     "metadata": {},
     "output_type": "execute_result"
    },
    {
     "data": {
      "image/png": "[encoded data removed]",
      "text/plain": [
       "<matplotlib.figure.Figure at 0x2246bc535f8>"
      ]
     },
     "metadata": {},
     "output_type": "display_data"
    }
   ],
   "source": [
    "#Churn ratio analysis for different bill payment method\n",
    "fig = plt.gcf()\n",
    "fig.set_size_inches( 12, 8)\n",
    "plt.title('Churn ratio analysis for different bill payment method')\n",
    "sns.countplot(data['PaymentMethod'],hue=data['Churn'])"
   ]
  },
  {
   "cell_type": "markdown",
   "metadata": {},
   "source": [
    "It is clear that churn ratio for people paying bill using Electronic check is much higher as compared to other payment methods."
   ]
  },
  {
   "cell_type": "code",
   "execution_count": 125,
   "metadata": {},
   "outputs": [
    {
     "data": {
      "text/plain": [
       "No                     3498\n",
       "Yes                    2019\n",
       "No internet service    1526\n",
       "Name: OnlineSecurity, dtype: int64"
      ]
     },
     "execution_count": 125,
     "metadata": {},
     "output_type": "execute_result"
    }
   ],
   "source": [
    "data['OnlineSecurity'].value_counts()"
   ]
  },
  {
   "cell_type": "markdown",
   "metadata": {},
   "source": [
    "Here in above column OnlineSecurity, we can replace No internet service with No .Similar is the case with other columns like OnlineBackup ,DeviceProtection ,TechSupport ,StreamingTV ,StreamingMovies."
   ]
  },
  {
   "cell_type": "code",
   "execution_count": 126,
   "metadata": {},
   "outputs": [],
   "source": [
    "internet_features = ['OnlineSecurity','OnlineBackup' ,'DeviceProtection' ,\n",
    "                     'TechSupport' ,'StreamingTV' ,'StreamingMovies','InternetService']"
   ]
  },
  {
   "cell_type": "code",
   "execution_count": 127,
   "metadata": {},
   "outputs": [],
   "source": [
    "#replace No internet service with No\n",
    "data[internet_features]=data[internet_features].replace('No internet service','No')"
   ]
  },
  {
   "cell_type": "code",
   "execution_count": 128,
   "metadata": {},
   "outputs": [
    {
     "data": {
      "text/plain": [
       "No     5024\n",
       "Yes    2019\n",
       "Name: OnlineSecurity, dtype: int64"
      ]
     },
     "execution_count": 128,
     "metadata": {},
     "output_type": "execute_result"
    }
   ],
   "source": [
    "#let's verify it\n",
    "data['OnlineSecurity'].value_counts()"
   ]
  },
  {
   "cell_type": "code",
   "execution_count": 129,
   "metadata": {},
   "outputs": [
    {
     "data": {
      "application/vnd.plotly.v1+json": {
       "data": [
        {
         "marker": {
          "color": "orange"
         },
         "name": "Not Churn",
         "type": "bar",
         "x": [
          "No",
          "Yes"
         ],
         "y": [
          3450,
          1724
         ]
        },
        {
         "marker": {
          "color": "purple"
         },
         "name": "Churn",
         "type": "bar",
         "x": [
          "No",
          "Yes"
         ],
         "y": [
          1574,
          295
         ]
        }
       ],
       "layout": {
        "barmode": "group",
        "height": 600,
        "title": "Effect of OnlineSecurity on Customer Churn",
        "width": 800,
        "xaxis": {
         "title": "OnlineSecurity"
        },
        "yaxis": {
         "title": "Count"
        }
       }
      },
      "text/html": [
       "<div id=\"d1213016-2235-4dc3-8ee1-718691b18fce\" style=\"height: 600px; width: 800px;\" class=\"plotly-graph-div\"></div><script type=\"text/javascript\">require([\"plotly\"], function(Plotly) { window.PLOTLYENV=window.PLOTLYENV || {};window.PLOTLYENV.BASE_URL=\"https://plot.ly\";Plotly.newPlot(\"d1213016-2235-4dc3-8ee1-718691b18fce\", [{\"type\": \"bar\", \"y\": [3450, 1724], \"name\": \"Not Churn\", \"x\": [\"No\", \"Yes\"], \"marker\": {\"color\": \"orange\"}}, {\"type\": \"bar\", \"y\": [1574, 295], \"name\": \"Churn\", \"x\": [\"No\", \"Yes\"], \"marker\": {\"color\": \"purple\"}}], {\"barmode\": \"group\", \"xaxis\": {\"title\": \"OnlineSecurity\"}, \"yaxis\": {\"title\": \"Count\"}, \"title\": \"Effect of OnlineSecurity on Customer Churn\", \"width\": 800, \"height\": 600}, {\"showLink\": true, \"linkText\": \"Export to plot.ly\"})});</script>"
      ],
      "text/vnd.plotly.v1+html": [
       "<div id=\"d1213016-2235-4dc3-8ee1-718691b18fce\" style=\"height: 600px; width: 800px;\" class=\"plotly-graph-div\"></div><script type=\"text/javascript\">require([\"plotly\"], function(Plotly) { window.PLOTLYENV=window.PLOTLYENV || {};window.PLOTLYENV.BASE_URL=\"https://plot.ly\";Plotly.newPlot(\"d1213016-2235-4dc3-8ee1-718691b18fce\", [{\"type\": \"bar\", \"y\": [3450, 1724], \"name\": \"Not Churn\", \"x\": [\"No\", \"Yes\"], \"marker\": {\"color\": \"orange\"}}, {\"type\": \"bar\", \"y\": [1574, 295], \"name\": \"Churn\", \"x\": [\"No\", \"Yes\"], \"marker\": {\"color\": \"purple\"}}], {\"barmode\": \"group\", \"xaxis\": {\"title\": \"OnlineSecurity\"}, \"yaxis\": {\"title\": \"Count\"}, \"title\": \"Effect of OnlineSecurity on Customer Churn\", \"width\": 800, \"height\": 600}, {\"showLink\": true, \"linkText\": \"Export to plot.ly\"})});</script>"
      ]
     },
     "metadata": {},
     "output_type": "display_data"
    }
   ],
   "source": [
    "#churn ratio for column Online security\n",
    "bar_plot('OnlineSecurity',data)"
   ]
  },
  {
   "cell_type": "markdown",
   "metadata": {},
   "source": [
    "Clearly churn ratio for customers not having online security feature is higher in comparison to those having it."
   ]
  },
  {
   "cell_type": "code",
   "execution_count": 130,
   "metadata": {},
   "outputs": [
    {
     "data": {
      "application/vnd.plotly.v1+json": {
       "data": [
        {
         "marker": {
          "color": "orange"
         },
         "name": "Not Churn",
         "type": "bar",
         "x": [
          "No",
          "Yes"
         ],
         "y": [
          3281,
          1893
         ]
        },
        {
         "marker": {
          "color": "purple"
         },
         "name": "Churn",
         "type": "bar",
         "x": [
          "No",
          "Yes"
         ],
         "y": [
          1055,
          814
         ]
        }
       ],
       "layout": {
        "barmode": "group",
        "height": 600,
        "title": "Effect of StreamingTV on Customer Churn",
        "width": 800,
        "xaxis": {
         "title": "StreamingTV"
        },
        "yaxis": {
         "title": "Count"
        }
       }
      },
      "text/html": [
       "<div id=\"50b5f597-4cff-4972-91f5-b73d68b53a06\" style=\"height: 600px; width: 800px;\" class=\"plotly-graph-div\"></div><script type=\"text/javascript\">require([\"plotly\"], function(Plotly) { window.PLOTLYENV=window.PLOTLYENV || {};window.PLOTLYENV.BASE_URL=\"https://plot.ly\";Plotly.newPlot(\"50b5f597-4cff-4972-91f5-b73d68b53a06\", [{\"type\": \"bar\", \"y\": [3281, 1893], \"name\": \"Not Churn\", \"x\": [\"No\", \"Yes\"], \"marker\": {\"color\": \"orange\"}}, {\"type\": \"bar\", \"y\": [1055, 814], \"name\": \"Churn\", \"x\": [\"No\", \"Yes\"], \"marker\": {\"color\": \"purple\"}}], {\"barmode\": \"group\", \"xaxis\": {\"title\": \"StreamingTV\"}, \"yaxis\": {\"title\": \"Count\"}, \"title\": \"Effect of StreamingTV on Customer Churn\", \"width\": 800, \"height\": 600}, {\"showLink\": true, \"linkText\": \"Export to plot.ly\"})});</script>"
      ],
      "text/vnd.plotly.v1+html": [
       "<div id=\"50b5f597-4cff-4972-91f5-b73d68b53a06\" style=\"height: 600px; width: 800px;\" class=\"plotly-graph-div\"></div><script type=\"text/javascript\">require([\"plotly\"], function(Plotly) { window.PLOTLYENV=window.PLOTLYENV || {};window.PLOTLYENV.BASE_URL=\"https://plot.ly\";Plotly.newPlot(\"50b5f597-4cff-4972-91f5-b73d68b53a06\", [{\"type\": \"bar\", \"y\": [3281, 1893], \"name\": \"Not Churn\", \"x\": [\"No\", \"Yes\"], \"marker\": {\"color\": \"orange\"}}, {\"type\": \"bar\", \"y\": [1055, 814], \"name\": \"Churn\", \"x\": [\"No\", \"Yes\"], \"marker\": {\"color\": \"purple\"}}], {\"barmode\": \"group\", \"xaxis\": {\"title\": \"StreamingTV\"}, \"yaxis\": {\"title\": \"Count\"}, \"title\": \"Effect of StreamingTV on Customer Churn\", \"width\": 800, \"height\": 600}, {\"showLink\": true, \"linkText\": \"Export to plot.ly\"})});</script>"
      ]
     },
     "metadata": {},
     "output_type": "display_data"
    }
   ],
   "source": [
    "#Churn ratio for StreamingTV\n",
    "bar_plot('StreamingTV',data)"
   ]
  },
  {
   "cell_type": "markdown",
   "metadata": {},
   "source": [
    "Churn ratio for people having Streaming TV servie is higher as compared to those not having it."
   ]
  },
  {
   "cell_type": "code",
   "execution_count": 131,
   "metadata": {},
   "outputs": [
    {
     "data": {
      "application/vnd.plotly.v1+json": {
       "data": [
        {
         "marker": {
          "color": "orange"
         },
         "name": "Not Churn",
         "type": "bar",
         "x": [
          "No",
          "Yes"
         ],
         "y": [
          3260,
          1914
         ]
        },
        {
         "marker": {
          "color": "purple"
         },
         "name": "Churn",
         "type": "bar",
         "x": [
          "No",
          "Yes"
         ],
         "y": [
          1051,
          818
         ]
        }
       ],
       "layout": {
        "barmode": "group",
        "height": 600,
        "title": "Effect of StreamingMovies on Customer Churn",
        "width": 800,
        "xaxis": {
         "title": "StreamingMovies"
        },
        "yaxis": {
         "title": "Count"
        }
       }
      },
      "text/html": [
       "<div id=\"5b5c954f-079c-49b1-b7c7-ccd8bc805f3a\" style=\"height: 600px; width: 800px;\" class=\"plotly-graph-div\"></div><script type=\"text/javascript\">require([\"plotly\"], function(Plotly) { window.PLOTLYENV=window.PLOTLYENV || {};window.PLOTLYENV.BASE_URL=\"https://plot.ly\";Plotly.newPlot(\"5b5c954f-079c-49b1-b7c7-ccd8bc805f3a\", [{\"type\": \"bar\", \"y\": [3260, 1914], \"name\": \"Not Churn\", \"x\": [\"No\", \"Yes\"], \"marker\": {\"color\": \"orange\"}}, {\"type\": \"bar\", \"y\": [1051, 818], \"name\": \"Churn\", \"x\": [\"No\", \"Yes\"], \"marker\": {\"color\": \"purple\"}}], {\"barmode\": \"group\", \"xaxis\": {\"title\": \"StreamingMovies\"}, \"yaxis\": {\"title\": \"Count\"}, \"title\": \"Effect of StreamingMovies on Customer Churn\", \"width\": 800, \"height\": 600}, {\"showLink\": true, \"linkText\": \"Export to plot.ly\"})});</script>"
      ],
      "text/vnd.plotly.v1+html": [
       "<div id=\"5b5c954f-079c-49b1-b7c7-ccd8bc805f3a\" style=\"height: 600px; width: 800px;\" class=\"plotly-graph-div\"></div><script type=\"text/javascript\">require([\"plotly\"], function(Plotly) { window.PLOTLYENV=window.PLOTLYENV || {};window.PLOTLYENV.BASE_URL=\"https://plot.ly\";Plotly.newPlot(\"5b5c954f-079c-49b1-b7c7-ccd8bc805f3a\", [{\"type\": \"bar\", \"y\": [3260, 1914], \"name\": \"Not Churn\", \"x\": [\"No\", \"Yes\"], \"marker\": {\"color\": \"orange\"}}, {\"type\": \"bar\", \"y\": [1051, 818], \"name\": \"Churn\", \"x\": [\"No\", \"Yes\"], \"marker\": {\"color\": \"purple\"}}], {\"barmode\": \"group\", \"xaxis\": {\"title\": \"StreamingMovies\"}, \"yaxis\": {\"title\": \"Count\"}, \"title\": \"Effect of StreamingMovies on Customer Churn\", \"width\": 800, \"height\": 600}, {\"showLink\": true, \"linkText\": \"Export to plot.ly\"})});</script>"
      ]
     },
     "metadata": {},
     "output_type": "display_data"
    }
   ],
   "source": [
    "#churn ratio for people having StreamingMovie service\n",
    "bar_plot('StreamingMovies',data)"
   ]
  },
  {
   "cell_type": "markdown",
   "metadata": {},
   "source": [
    "Like StreamingTV, Churn ratio for people having StreamingMovies service is higher.It seems these two online services are major factor for churn."
   ]
  },
  {
   "cell_type": "code",
   "execution_count": 132,
   "metadata": {},
   "outputs": [
    {
     "data": {
      "application/vnd.plotly.v1+json": {
       "data": [
        {
         "marker": {
          "color": "orange"
         },
         "name": "Not Churn",
         "type": "bar",
         "x": [
          "No",
          "Yes"
         ],
         "y": [
          3440,
          1734
         ]
        },
        {
         "marker": {
          "color": "purple"
         },
         "name": "Churn",
         "type": "bar",
         "x": [
          "No",
          "Yes"
         ],
         "y": [
          1559,
          310
         ]
        }
       ],
       "layout": {
        "barmode": "group",
        "height": 600,
        "title": "Effect of TechSupport on Customer Churn",
        "width": 800,
        "xaxis": {
         "title": "TechSupport"
        },
        "yaxis": {
         "title": "Count"
        }
       }
      },
      "text/html": [
       "<div id=\"284a5e98-7434-4a7c-947e-99bf3c7b1ba1\" style=\"height: 600px; width: 800px;\" class=\"plotly-graph-div\"></div><script type=\"text/javascript\">require([\"plotly\"], function(Plotly) { window.PLOTLYENV=window.PLOTLYENV || {};window.PLOTLYENV.BASE_URL=\"https://plot.ly\";Plotly.newPlot(\"284a5e98-7434-4a7c-947e-99bf3c7b1ba1\", [{\"type\": \"bar\", \"y\": [3440, 1734], \"name\": \"Not Churn\", \"x\": [\"No\", \"Yes\"], \"marker\": {\"color\": \"orange\"}}, {\"type\": \"bar\", \"y\": [1559, 310], \"name\": \"Churn\", \"x\": [\"No\", \"Yes\"], \"marker\": {\"color\": \"purple\"}}], {\"barmode\": \"group\", \"xaxis\": {\"title\": \"TechSupport\"}, \"yaxis\": {\"title\": \"Count\"}, \"title\": \"Effect of TechSupport on Customer Churn\", \"width\": 800, \"height\": 600}, {\"showLink\": true, \"linkText\": \"Export to plot.ly\"})});</script>"
      ],
      "text/vnd.plotly.v1+html": [
       "<div id=\"284a5e98-7434-4a7c-947e-99bf3c7b1ba1\" style=\"height: 600px; width: 800px;\" class=\"plotly-graph-div\"></div><script type=\"text/javascript\">require([\"plotly\"], function(Plotly) { window.PLOTLYENV=window.PLOTLYENV || {};window.PLOTLYENV.BASE_URL=\"https://plot.ly\";Plotly.newPlot(\"284a5e98-7434-4a7c-947e-99bf3c7b1ba1\", [{\"type\": \"bar\", \"y\": [3440, 1734], \"name\": \"Not Churn\", \"x\": [\"No\", \"Yes\"], \"marker\": {\"color\": \"orange\"}}, {\"type\": \"bar\", \"y\": [1559, 310], \"name\": \"Churn\", \"x\": [\"No\", \"Yes\"], \"marker\": {\"color\": \"purple\"}}], {\"barmode\": \"group\", \"xaxis\": {\"title\": \"TechSupport\"}, \"yaxis\": {\"title\": \"Count\"}, \"title\": \"Effect of TechSupport on Customer Churn\", \"width\": 800, \"height\": 600}, {\"showLink\": true, \"linkText\": \"Export to plot.ly\"})});</script>"
      ]
     },
     "metadata": {},
     "output_type": "display_data"
    }
   ],
   "source": [
    "#Churn ratio for feature tech support\n",
    "bar_plot('TechSupport',data)"
   ]
  },
  {
   "cell_type": "markdown",
   "metadata": {},
   "source": [
    "People not having tech support have higher churn ratio as compared to having it. May be telecom company can provide some discount on tech support charges so that more customer can avail it."
   ]
  },
  {
   "cell_type": "code",
   "execution_count": 133,
   "metadata": {},
   "outputs": [
    {
     "data": {
      "application/vnd.plotly.v1+json": {
       "data": [
        {
         "marker": {
          "color": "orange"
         },
         "name": "Not Churn",
         "type": "bar",
         "x": [
          "No",
          "Yes"
         ],
         "y": [
          3268,
          1906
         ]
        },
        {
         "marker": {
          "color": "purple"
         },
         "name": "Churn",
         "type": "bar",
         "x": [
          "No",
          "Yes"
         ],
         "y": [
          1346,
          523
         ]
        }
       ],
       "layout": {
        "barmode": "group",
        "height": 600,
        "title": "Effect of OnlineBackup on Customer Churn",
        "width": 800,
        "xaxis": {
         "title": "OnlineBackup"
        },
        "yaxis": {
         "title": "Count"
        }
       }
      },
      "text/html": [
       "<div id=\"f588672e-e665-4fac-9557-fb9967dfe78b\" style=\"height: 600px; width: 800px;\" class=\"plotly-graph-div\"></div><script type=\"text/javascript\">require([\"plotly\"], function(Plotly) { window.PLOTLYENV=window.PLOTLYENV || {};window.PLOTLYENV.BASE_URL=\"https://plot.ly\";Plotly.newPlot(\"f588672e-e665-4fac-9557-fb9967dfe78b\", [{\"type\": \"bar\", \"y\": [3268, 1906], \"name\": \"Not Churn\", \"x\": [\"No\", \"Yes\"], \"marker\": {\"color\": \"orange\"}}, {\"type\": \"bar\", \"y\": [1346, 523], \"name\": \"Churn\", \"x\": [\"No\", \"Yes\"], \"marker\": {\"color\": \"purple\"}}], {\"barmode\": \"group\", \"xaxis\": {\"title\": \"OnlineBackup\"}, \"yaxis\": {\"title\": \"Count\"}, \"title\": \"Effect of OnlineBackup on Customer Churn\", \"width\": 800, \"height\": 600}, {\"showLink\": true, \"linkText\": \"Export to plot.ly\"})});</script>"
      ],
      "text/vnd.plotly.v1+html": [
       "<div id=\"f588672e-e665-4fac-9557-fb9967dfe78b\" style=\"height: 600px; width: 800px;\" class=\"plotly-graph-div\"></div><script type=\"text/javascript\">require([\"plotly\"], function(Plotly) { window.PLOTLYENV=window.PLOTLYENV || {};window.PLOTLYENV.BASE_URL=\"https://plot.ly\";Plotly.newPlot(\"f588672e-e665-4fac-9557-fb9967dfe78b\", [{\"type\": \"bar\", \"y\": [3268, 1906], \"name\": \"Not Churn\", \"x\": [\"No\", \"Yes\"], \"marker\": {\"color\": \"orange\"}}, {\"type\": \"bar\", \"y\": [1346, 523], \"name\": \"Churn\", \"x\": [\"No\", \"Yes\"], \"marker\": {\"color\": \"purple\"}}], {\"barmode\": \"group\", \"xaxis\": {\"title\": \"OnlineBackup\"}, \"yaxis\": {\"title\": \"Count\"}, \"title\": \"Effect of OnlineBackup on Customer Churn\", \"width\": 800, \"height\": 600}, {\"showLink\": true, \"linkText\": \"Export to plot.ly\"})});</script>"
      ]
     },
     "metadata": {},
     "output_type": "display_data"
    }
   ],
   "source": [
    "#churn ratio for column onlinebackup\n",
    "bar_plot('OnlineBackup',data)"
   ]
  },
  {
   "cell_type": "markdown",
   "metadata": {},
   "source": [
    "People who don't have online backup service have higher churn ratio as compared to people having it."
   ]
  },
  {
   "cell_type": "code",
   "execution_count": 134,
   "metadata": {},
   "outputs": [
    {
     "name": "stderr",
     "output_type": "stream",
     "text": [
      "C:\\Users\\PareshBhatia\\Anaconda3\\lib\\site-packages\\seaborn\\categorical.py:462: FutureWarning:\n",
      "\n",
      "remove_na is deprecated and is a private function. Do not use.\n",
      "\n"
     ]
    },
    {
     "data": {
      "text/plain": [
       "Text(0.5,0,'Churn')"
      ]
     },
     "execution_count": 134,
     "metadata": {},
     "output_type": "execute_result"
    },
    {
     "data": {
      "image/png": "[encoded data removed]",
      "text/plain": [
       "<matplotlib.figure.Figure at 0x2246bca3400>"
      ]
     },
     "metadata": {},
     "output_type": "display_data"
    }
   ],
   "source": [
    "plt.figure(figsize=(10,6))\n",
    "ax = sns.boxplot(x='Churn', y = 'tenure', data=data)\n",
    "ax.set_title('Effect of Tenure length on Churn', fontsize=18)\n",
    "ax.set_ylabel('Tenure', fontsize = 15)\n",
    "ax.set_xlabel('Churn', fontsize = 15)"
   ]
  },
  {
   "cell_type": "markdown",
   "metadata": {},
   "source": [
    "It seems that customer churn in initial period more(over 10 months). Company must put some extra focus on new customers having tenure over 10 months."
   ]
  },
  {
   "cell_type": "code",
   "execution_count": 135,
   "metadata": {},
   "outputs": [
    {
     "name": "stderr",
     "output_type": "stream",
     "text": [
      "C:\\Users\\PareshBhatia\\Anaconda3\\lib\\site-packages\\seaborn\\categorical.py:462: FutureWarning:\n",
      "\n",
      "remove_na is deprecated and is a private function. Do not use.\n",
      "\n"
     ]
    },
    {
     "data": {
      "text/plain": [
       "Text(0.5,0,'Churn')"
      ]
     },
     "execution_count": 135,
     "metadata": {},
     "output_type": "execute_result"
    },
    {
     "data": {
      "image/png": "[encoded data removed]",
      "text/plain": [
       "<matplotlib.figure.Figure at 0x2246b8e4208>"
      ]
     },
     "metadata": {},
     "output_type": "display_data"
    }
   ],
   "source": [
    "plt.figure(figsize=(10,6))\n",
    "ax = sns.boxplot(x='Churn', y = 'MonthlyCharges', data=data)\n",
    "ax.set_title('Effect of Monthly Charges on Churn', fontsize=18)\n",
    "ax.set_ylabel('Charges', fontsize = 15)\n",
    "ax.set_xlabel('Churn', fontsize = 15)"
   ]
  },
  {
   "cell_type": "markdown",
   "metadata": {},
   "source": [
    "Customer churning are paying more monthly charges as compared to non-churn customers."
   ]
  },
  {
   "cell_type": "markdown",
   "metadata": {},
   "source": [
    "### Feature engineering"
   ]
  },
  {
   "cell_type": "code",
   "execution_count": 136,
   "metadata": {},
   "outputs": [],
   "source": [
    "# Converting Total Charges to a numerical data type.\n",
    "data.TotalCharges = pd.to_numeric(data.TotalCharges, errors='coerce')"
   ]
  },
  {
   "cell_type": "code",
   "execution_count": 137,
   "metadata": {},
   "outputs": [
    {
     "data": {
      "text/plain": [
       "TotalCharges    11\n",
       "dtype: int64"
      ]
     },
     "execution_count": 137,
     "metadata": {},
     "output_type": "execute_result"
    }
   ],
   "source": [
    "#Let's check for nulls first\n",
    "nulls = data.isnull().sum()\n",
    "nulls[nulls > 0]"
   ]
  },
  {
   "cell_type": "code",
   "execution_count": 138,
   "metadata": {},
   "outputs": [],
   "source": [
    "#impute missing values with 0\n",
    "data.fillna(0,inplace=True)"
   ]
  },
  {
   "cell_type": "code",
   "execution_count": 139,
   "metadata": {},
   "outputs": [],
   "source": [
    "#new feature - Internet(Yes- have internet service, No- do not have internet service)\n",
    "data['Internet'] = data['InternetService'].apply(lambda x : x if x=='No' else 'Yes')"
   ]
  },
  {
   "cell_type": "code",
   "execution_count": 140,
   "metadata": {},
   "outputs": [
    {
     "data": {
      "text/plain": [
       "Yes    5517\n",
       "No     1526\n",
       "Name: Internet, dtype: int64"
      ]
     },
     "execution_count": 140,
     "metadata": {},
     "output_type": "execute_result"
    }
   ],
   "source": [
    "data['Internet'].value_counts()"
   ]
  },
  {
   "cell_type": "code",
   "execution_count": 141,
   "metadata": {},
   "outputs": [
    {
     "data": {
      "text/plain": [
       "No                  3390\n",
       "Yes                 2971\n",
       "No phone service     682\n",
       "Name: MultipleLines, dtype: int64"
      ]
     },
     "execution_count": 141,
     "metadata": {},
     "output_type": "execute_result"
    }
   ],
   "source": [
    "data['MultipleLines'].value_counts()"
   ]
  },
  {
   "cell_type": "code",
   "execution_count": 142,
   "metadata": {},
   "outputs": [],
   "source": [
    "#replace No phone service with No\n",
    "data['MultipleLines'].replace('No phone service','No',inplace=True)"
   ]
  },
  {
   "cell_type": "code",
   "execution_count": 143,
   "metadata": {},
   "outputs": [],
   "source": [
    "#train and target\n",
    "y = data['Churn'].map({'Yes':1,'No':0})\n",
    "X = data.drop(labels=['Churn','customerID'],axis=1).copy()"
   ]
  },
  {
   "cell_type": "code",
   "execution_count": 144,
   "metadata": {},
   "outputs": [],
   "source": [
    "#find list of categorical columns for encoding\n",
    "cat_cols = []\n",
    "for column in X.columns:\n",
    "    if column not in ['tenure','MonthlyCharges','TotalCharges']:\n",
    "        cat_cols.append(column)"
   ]
  },
  {
   "cell_type": "code",
   "execution_count": 145,
   "metadata": {},
   "outputs": [],
   "source": [
    "#Convert categorical columns to binary\n",
    "X= pd.get_dummies(X,columns=cat_cols)\n"
   ]
  },
  {
   "cell_type": "code",
   "execution_count": 146,
   "metadata": {},
   "outputs": [
    {
     "data": {
      "text/html": [
       "<div>\n",
       "<style scoped>\n",
       "    .dataframe tbody tr th:only-of-type {\n",
       "        vertical-align: middle;\n",
       "    }\n",
       "\n",
       "    .dataframe tbody tr th {\n",
       "        vertical-align: top;\n",
       "    }\n",
       "\n",
       "    .dataframe thead th {\n",
       "        text-align: right;\n",
       "    }\n",
       "</style>\n",
       "<table border=\"1\" class=\"dataframe\">\n",
       "  <thead>\n",
       "    <tr style=\"text-align: right;\">\n",
       "      <th></th>\n",
       "      <th>tenure</th>\n",
       "      <th>MonthlyCharges</th>\n",
       "      <th>TotalCharges</th>\n",
       "      <th>gender_Female</th>\n",
       "      <th>gender_Male</th>\n",
       "      <th>SeniorCitizen_No</th>\n",
       "      <th>SeniorCitizen_Yes</th>\n",
       "      <th>Partner_No</th>\n",
       "      <th>Partner_Yes</th>\n",
       "      <th>Dependents_No</th>\n",
       "      <th>...</th>\n",
       "      <th>Contract_One year</th>\n",
       "      <th>Contract_Two year</th>\n",
       "      <th>PaperlessBilling_No</th>\n",
       "      <th>PaperlessBilling_Yes</th>\n",
       "      <th>PaymentMethod_Bank transfer (automatic)</th>\n",
       "      <th>PaymentMethod_Credit card (automatic)</th>\n",
       "      <th>PaymentMethod_Electronic check</th>\n",
       "      <th>PaymentMethod_Mailed check</th>\n",
       "      <th>Internet_No</th>\n",
       "      <th>Internet_Yes</th>\n",
       "    </tr>\n",
       "  </thead>\n",
       "  <tbody>\n",
       "    <tr>\n",
       "      <th>0</th>\n",
       "      <td>1</td>\n",
       "      <td>29.85</td>\n",
       "      <td>29.85</td>\n",
       "      <td>1</td>\n",
       "      <td>0</td>\n",
       "      <td>1</td>\n",
       "      <td>0</td>\n",
       "      <td>0</td>\n",
       "      <td>1</td>\n",
       "      <td>1</td>\n",
       "      <td>...</td>\n",
       "      <td>0</td>\n",
       "      <td>0</td>\n",
       "      <td>0</td>\n",
       "      <td>1</td>\n",
       "      <td>0</td>\n",
       "      <td>0</td>\n",
       "      <td>1</td>\n",
       "      <td>0</td>\n",
       "      <td>0</td>\n",
       "      <td>1</td>\n",
       "    </tr>\n",
       "    <tr>\n",
       "      <th>1</th>\n",
       "      <td>34</td>\n",
       "      <td>56.95</td>\n",
       "      <td>1889.50</td>\n",
       "      <td>0</td>\n",
       "      <td>1</td>\n",
       "      <td>1</td>\n",
       "      <td>0</td>\n",
       "      <td>1</td>\n",
       "      <td>0</td>\n",
       "      <td>1</td>\n",
       "      <td>...</td>\n",
       "      <td>1</td>\n",
       "      <td>0</td>\n",
       "      <td>1</td>\n",
       "      <td>0</td>\n",
       "      <td>0</td>\n",
       "      <td>0</td>\n",
       "      <td>0</td>\n",
       "      <td>1</td>\n",
       "      <td>0</td>\n",
       "      <td>1</td>\n",
       "    </tr>\n",
       "    <tr>\n",
       "      <th>2</th>\n",
       "      <td>2</td>\n",
       "      <td>53.85</td>\n",
       "      <td>108.15</td>\n",
       "      <td>0</td>\n",
       "      <td>1</td>\n",
       "      <td>1</td>\n",
       "      <td>0</td>\n",
       "      <td>1</td>\n",
       "      <td>0</td>\n",
       "      <td>1</td>\n",
       "      <td>...</td>\n",
       "      <td>0</td>\n",
       "      <td>0</td>\n",
       "      <td>0</td>\n",
       "      <td>1</td>\n",
       "      <td>0</td>\n",
       "      <td>0</td>\n",
       "      <td>0</td>\n",
       "      <td>1</td>\n",
       "      <td>0</td>\n",
       "      <td>1</td>\n",
       "    </tr>\n",
       "    <tr>\n",
       "      <th>3</th>\n",
       "      <td>45</td>\n",
       "      <td>42.30</td>\n",
       "      <td>1840.75</td>\n",
       "      <td>0</td>\n",
       "      <td>1</td>\n",
       "      <td>1</td>\n",
       "      <td>0</td>\n",
       "      <td>1</td>\n",
       "      <td>0</td>\n",
       "      <td>1</td>\n",
       "      <td>...</td>\n",
       "      <td>1</td>\n",
       "      <td>0</td>\n",
       "      <td>1</td>\n",
       "      <td>0</td>\n",
       "      <td>1</td>\n",
       "      <td>0</td>\n",
       "      <td>0</td>\n",
       "      <td>0</td>\n",
       "      <td>0</td>\n",
       "      <td>1</td>\n",
       "    </tr>\n",
       "    <tr>\n",
       "      <th>4</th>\n",
       "      <td>2</td>\n",
       "      <td>70.70</td>\n",
       "      <td>151.65</td>\n",
       "      <td>1</td>\n",
       "      <td>0</td>\n",
       "      <td>1</td>\n",
       "      <td>0</td>\n",
       "      <td>1</td>\n",
       "      <td>0</td>\n",
       "      <td>1</td>\n",
       "      <td>...</td>\n",
       "      <td>0</td>\n",
       "      <td>0</td>\n",
       "      <td>0</td>\n",
       "      <td>1</td>\n",
       "      <td>0</td>\n",
       "      <td>0</td>\n",
       "      <td>1</td>\n",
       "      <td>0</td>\n",
       "      <td>0</td>\n",
       "      <td>1</td>\n",
       "    </tr>\n",
       "  </tbody>\n",
       "</table>\n",
       "<p>5 rows × 41 columns</p>\n",
       "</div>"
      ],
      "text/plain": [
       "   tenure  MonthlyCharges  TotalCharges  gender_Female  gender_Male  \\\n",
       "0       1           29.85         29.85              1            0   \n",
       "1      34           56.95       1889.50              0            1   \n",
       "2       2           53.85        108.15              0            1   \n",
       "3      45           42.30       1840.75              0            1   \n",
       "4       2           70.70        151.65              1            0   \n",
       "\n",
       "   SeniorCitizen_No  SeniorCitizen_Yes  Partner_No  Partner_Yes  \\\n",
       "0                 1                  0           0            1   \n",
       "1                 1                  0           1            0   \n",
       "2                 1                  0           1            0   \n",
       "3                 1                  0           1            0   \n",
       "4                 1                  0           1            0   \n",
       "\n",
       "   Dependents_No      ...       Contract_One year  Contract_Two year  \\\n",
       "0              1      ...                       0                  0   \n",
       "1              1      ...                       1                  0   \n",
       "2              1      ...                       0                  0   \n",
       "3              1      ...                       1                  0   \n",
       "4              1      ...                       0                  0   \n",
       "\n",
       "   PaperlessBilling_No  PaperlessBilling_Yes  \\\n",
       "0                    0                     1   \n",
       "1                    1                     0   \n",
       "2                    0                     1   \n",
       "3                    1                     0   \n",
       "4                    0                     1   \n",
       "\n",
       "   PaymentMethod_Bank transfer (automatic)  \\\n",
       "0                                        0   \n",
       "1                                        0   \n",
       "2                                        0   \n",
       "3                                        1   \n",
       "4                                        0   \n",
       "\n",
       "   PaymentMethod_Credit card (automatic)  PaymentMethod_Electronic check  \\\n",
       "0                                      0                               1   \n",
       "1                                      0                               0   \n",
       "2                                      0                               0   \n",
       "3                                      0                               0   \n",
       "4                                      0                               1   \n",
       "\n",
       "   PaymentMethod_Mailed check  Internet_No  Internet_Yes  \n",
       "0                           0            0             1  \n",
       "1                           1            0             1  \n",
       "2                           1            0             1  \n",
       "3                           0            0             1  \n",
       "4                           0            0             1  \n",
       "\n",
       "[5 rows x 41 columns]"
      ]
     },
     "execution_count": 146,
     "metadata": {},
     "output_type": "execute_result"
    }
   ],
   "source": [
    "#shape after conversion of categorical features\n",
    "X.head()"
   ]
  },
  {
   "cell_type": "markdown",
   "metadata": {},
   "source": [
    "### Modelling"
   ]
  },
  {
   "cell_type": "code",
   "execution_count": 162,
   "metadata": {},
   "outputs": [],
   "source": [
    "#import ML models and metrics\n",
    "from sklearn.metrics import f1_score\n",
    "from sklearn.linear_model import LogisticRegression\n",
    "from sklearn.metrics import f1_score,make_scorer,auc,roc_curve\n",
    "from sklearn.ensemble import RandomForestClassifier\n",
    "from sklearn.model_selection import RandomizedSearchCV\n",
    "from sklearn.model_selection import cross_val_score\n",
    "from sklearn.preprocessing import StandardScaler\n",
    "from sklearn.svm import SVC"
   ]
  },
  {
   "cell_type": "markdown",
   "metadata": {},
   "source": [
    "#### Logistic regression"
   ]
  },
  {
   "cell_type": "code",
   "execution_count": 151,
   "metadata": {},
   "outputs": [
    {
     "name": "stdout",
     "output_type": "stream",
     "text": [
      "Accuracy score : 0.810695693327\n",
      "ROC AUC score : 0.724886547978\n"
     ]
    }
   ],
   "source": [
    "# Create Train & Test Data\n",
    "from sklearn.model_selection import train_test_split\n",
    "X_train, X_test, y_train, y_test = train_test_split(X, y, test_size=0.3, random_state=101)\n",
    "# Running logistic regression model\n",
    "from sklearn.linear_model import LogisticRegression\n",
    "model = LogisticRegression(C=0.1)\n",
    "result = model.fit(X_train, y_train)\n",
    "from sklearn import metrics\n",
    "prediction_test = model.predict(X_test)\n",
    "# Print the prediction accuracy\n",
    "print ('Accuracy score :',metrics.accuracy_score(y_test, prediction_test))\n",
    "print ('ROC AUC score :',metrics.roc_auc_score(y_test, prediction_test))"
   ]
  },
  {
   "cell_type": "markdown",
   "metadata": {},
   "source": [
    "#### Random forest Classifier"
   ]
  },
  {
   "cell_type": "code",
   "execution_count": 152,
   "metadata": {},
   "outputs": [
    {
     "name": "stdout",
     "output_type": "stream",
     "text": [
      "Accuracy score : 0.773308092759\n",
      "ROC AUC score : 0.66080583448\n"
     ]
    }
   ],
   "source": [
    "rf =RandomForestClassifier()\n",
    "result = rf.fit(X_train,y_train)\n",
    "prediction_test_rf = rf.predict(X_test)\n",
    "# Print the prediction accuracy\n",
    "print ('Accuracy score :',metrics.accuracy_score(y_test, prediction_test_rf))\n",
    "print ('ROC AUC score :',metrics.roc_auc_score(y_test, prediction_test_rf))"
   ]
  },
  {
   "cell_type": "markdown",
   "metadata": {},
   "source": [
    "#### Here till now, Logistic regression is performing better than RandomForest(with default parameters). Let's try tuning parameters for random forest using Random search."
   ]
  },
  {
   "cell_type": "markdown",
   "metadata": {},
   "source": [
    "##### Parameter Tuning for random Forest"
   ]
  },
  {
   "cell_type": "code",
   "execution_count": 153,
   "metadata": {},
   "outputs": [
    {
     "name": "stdout",
     "output_type": "stream",
     "text": [
      "{'n_estimators': range(70, 150), 'max_features': ['auto', 'sqrt'], 'max_depth': range(4, 8), 'min_samples_split': range(2, 6), 'min_samples_leaf': range(1, 5), 'bootstrap': [True, False], 'criterion': ['gini', 'entropy']}\n"
     ]
    }
   ],
   "source": [
    "#set up search grid\n",
    "#Number of search trees\n",
    "n_estimators=range(70,150)\n",
    "# Number of features to consider at every split\n",
    "max_features = ['auto', 'sqrt']\n",
    "# Maximum number of levels in tree\n",
    "max_depth = range(4,8)\n",
    "# Minimum number of samples required to split a node\n",
    "min_samples_split = range(2,6)\n",
    "# Minimum number of samples required at each leaf node\n",
    "min_samples_leaf = range(1,5)\n",
    "# Method of selecting samples for training each tree\n",
    "bootstrap = [True, False]\n",
    "#criterion\n",
    "criterion=['gini','entropy']\n",
    "#create the random grid\n",
    "random_grid = {'n_estimators':n_estimators,\n",
    "              'max_features':max_features,\n",
    "              'max_depth':max_depth,\n",
    "              'min_samples_split':min_samples_split,\n",
    "              'min_samples_leaf':min_samples_leaf,\n",
    "              'bootstrap':bootstrap,\n",
    "              'criterion':criterion}\n",
    "print(random_grid)"
   ]
  },
  {
   "cell_type": "code",
   "execution_count": 154,
   "metadata": {},
   "outputs": [
    {
     "name": "stdout",
     "output_type": "stream",
     "text": [
      "Fitting 3 folds for each of 100 candidates, totalling 300 fits\n"
     ]
    },
    {
     "name": "stderr",
     "output_type": "stream",
     "text": [
      "[Parallel(n_jobs=-1)]: Done  33 tasks      | elapsed:    7.6s\n",
      "[Parallel(n_jobs=-1)]: Done 154 tasks      | elapsed:   26.3s\n",
      "[Parallel(n_jobs=-1)]: Done 300 out of 300 | elapsed:   52.8s finished\n"
     ]
    },
    {
     "data": {
      "text/plain": [
       "RandomizedSearchCV(cv=3, error_score='raise',\n",
       "          estimator=RandomForestClassifier(bootstrap=True, class_weight=None, criterion='gini',\n",
       "            max_depth=None, max_features='auto', max_leaf_nodes=None,\n",
       "            min_impurity_decrease=0.0, min_impurity_split=None,\n",
       "            min_samples_leaf=1, min_samples_split=2,\n",
       "            min_weight_fraction_leaf=0.0, n_estimators=10, n_jobs=1,\n",
       "            oob_score=False, random_state=2018, verbose=0,\n",
       "            warm_start=False),\n",
       "          fit_params=None, iid=True, n_iter=100, n_jobs=-1,\n",
       "          param_distributions={'n_estimators': range(70, 150), 'max_features': ['auto', 'sqrt'], 'max_depth': range(4, 8), 'min_samples_split': range(2, 6), 'min_samples_leaf': range(1, 5), 'bootstrap': [True, False], 'criterion': ['gini', 'entropy']},\n",
       "          pre_dispatch='2*n_jobs', random_state=42, refit=True,\n",
       "          return_train_score='warn', scoring=None, verbose=2)"
      ]
     },
     "execution_count": 154,
     "metadata": {},
     "output_type": "execute_result"
    }
   ],
   "source": [
    "# Use the random grid to search for best hyperparameters\n",
    "# First create the base model to tune\n",
    "rf = RandomForestClassifier(random_state=2018)\n",
    "\n",
    "# Random search of parameters, using 3 fold cross validation, \n",
    "# search across 100 different combinations, and use all available cores\n",
    "rf_random = RandomizedSearchCV(estimator = rf, param_distributions = random_grid, cv = 3, verbose=2, n_iter=100,random_state=42, n_jobs = -1)\n",
    "\n",
    "# Fit the random search model\n",
    "rf_random.fit(X_train,y_train)"
   ]
  },
  {
   "cell_type": "code",
   "execution_count": 155,
   "metadata": {},
   "outputs": [
    {
     "data": {
      "text/plain": [
       "{'bootstrap': True,\n",
       " 'criterion': 'gini',\n",
       " 'max_depth': 7,\n",
       " 'max_features': 'auto',\n",
       " 'min_samples_leaf': 4,\n",
       " 'min_samples_split': 3,\n",
       " 'n_estimators': 142}"
      ]
     },
     "execution_count": 155,
     "metadata": {},
     "output_type": "execute_result"
    }
   ],
   "source": [
    "#best params\n",
    "params = rf_random.best_params_\n",
    "params"
   ]
  },
  {
   "cell_type": "code",
   "execution_count": 156,
   "metadata": {},
   "outputs": [
    {
     "name": "stdout",
     "output_type": "stream",
     "text": [
      "Accuracy score : 0.809275911027\n",
      "ROC AUC score : 0.709955828434\n"
     ]
    }
   ],
   "source": [
    "rfc = RandomForestClassifier(**params,random_state=42)\n",
    "result = rfc.fit(X_train,y_train)\n",
    "prediction_test_rf = rfc.predict(X_test)\n",
    "# Print the prediction accuracy\n",
    "print ('Accuracy score :',metrics.accuracy_score(y_test, prediction_test_rf))\n",
    "print ('ROC AUC score :',metrics.roc_auc_score(y_test, prediction_test_rf))"
   ]
  },
  {
   "cell_type": "markdown",
   "metadata": {},
   "source": [
    "##### Feature Importance - random forest"
   ]
  },
  {
   "cell_type": "code",
   "execution_count": 157,
   "metadata": {},
   "outputs": [
    {
     "name": "stderr",
     "output_type": "stream",
     "text": [
      "C:\\Users\\PareshBhatia\\Anaconda3\\lib\\site-packages\\seaborn\\categorical.py:1460: FutureWarning:\n",
      "\n",
      "remove_na is deprecated and is a private function. Do not use.\n",
      "\n"
     ]
    },
    {
     "data": {
      "image/png": "[encoded data removed]",
      "text/plain": [
       "<matplotlib.figure.Figure at 0x2246280e160>"
      ]
     },
     "metadata": {},
     "output_type": "display_data"
    }
   ],
   "source": [
    "indices = np.argsort(rfc.feature_importances_)[::-1]\n",
    "indices = indices[:45]\n",
    "\n",
    "# Visualise these with a barplot\n",
    "plt.subplots(figsize=(20, 15))\n",
    "g = sns.barplot(y=X.columns[indices], x = rfc.feature_importances_[indices], orient='h')\n",
    "g.set_xlabel(\"Relative importance\",fontsize=12)\n",
    "g.set_ylabel(\"Features\",fontsize=12)\n",
    "g.tick_params(labelsize=9)\n",
    "g.set_title(\"RandomForest feature importance\");"
   ]
  },
  {
   "cell_type": "markdown",
   "metadata": {},
   "source": [
    "#### ROC curve for both models"
   ]
  },
  {
   "cell_type": "code",
   "execution_count": 163,
   "metadata": {},
   "outputs": [],
   "source": [
    "#we define a plot_multiple_roc to visualise all the model curves together\n",
    "\n",
    "def plot_multiple_roc(y_preds, y_test, model_names):\n",
    "    \n",
    "    fig, ax = plt.subplots(figsize=(8, 8))\n",
    "    \n",
    "    \n",
    "    for i in range (0, len(y_preds)):\n",
    "        false_positive_rate, true_positive_rate, threshold = roc_curve(y_test, y_preds[i])\n",
    "        label = \"\"\n",
    "        if len(model_names) > i:\n",
    "            label = model_names[i]\n",
    "        ax.plot(false_positive_rate, true_positive_rate, label=label)\n",
    "    ax.plot([0, 1], [0, 1], 'k--', linewidth=.5)\n",
    "    ax.grid(True)\n",
    "    \n",
    "    ax.set(title='ROC Curves for telecom customer churn problem',\n",
    "           xlabel = 'False positive Rate', ylabel = 'True positive rate')\n",
    "        \n",
    "    if len(model_names) > 0:\n",
    "        plt.legend(loc=4)"
   ]
  },
  {
   "cell_type": "code",
   "execution_count": 164,
   "metadata": {},
   "outputs": [],
   "source": [
    "validation_probs_fs = []\n",
    "validation_probs_fs.append(prediction_test)\n",
    "validation_probs_fs.append(prediction_test_rf)"
   ]
  },
  {
   "cell_type": "code",
   "execution_count": 166,
   "metadata": {},
   "outputs": [
    {
     "data": {
      "image/png": "[encoded data removed]",
      "text/plain": [
       "<matplotlib.figure.Figure at 0x2246c4e8080>"
      ]
     },
     "metadata": {},
     "output_type": "display_data"
    }
   ],
   "source": [
    "all_models_names = ['logistic reg', 'Random_forest']\n",
    "plot_multiple_roc(validation_probs_fs, y_test, all_models_names)"
   ]
  },
  {
   "cell_type": "markdown",
   "metadata": {},
   "source": [
    "We can see that ROC AUC for logistic regression is more than random forest. So , __Logistic regression__ is winner here!"
   ]
  },
  {
   "cell_type": "markdown",
   "metadata": {},
   "source": [
    "### Conclusion"
   ]
  },
  {
   "cell_type": "markdown",
   "metadata": {},
   "source": [
    "From accuracy scores of all 2 models, we can see that __Logistic regression__\n",
    "outperforms other models.Some of the key takeaways from EDA and data analysis are :\n",
    "1. There is no difference in churn ratio for male and female.\n",
    "2. Churn ratio for senior citizens is significantly higher. Company must focus on some specific needs of senior citizens.\n",
    "3. People with paperless billing have higher churn ratio! May be the people having their bills deliverd in hard copy(paper)are loyal customers of the company.\n",
    "4. People paying bills via Electronic check have higher churn ratio. Company must focus on them and ask them if they are facing any difficulties in paying bills via electronic check or not?\n",
    "5. People not having TechSupport from the telecom company have higher churn rate. If company is charging high rates for TechSupport, then they must consider giving some discounts on them so that customers can avail the service."
   ]
  }
 ],
 "metadata": {
  "kernelspec": {
   "display_name": "Python 3",
   "language": "python",
   "name": "python3"
  },
  "language_info": {
   "codemirror_mode": {
    "name": "ipython",
    "version": 3
   },
   "file_extension": ".py",
   "mimetype": "text/x-python",
   "name": "python",
   "nbconvert_exporter": "python",
   "pygments_lexer": "ipython3",
   "version": "3.6.3"
  }
 },
 "nbformat": 4,
 "nbformat_minor": 2
}
